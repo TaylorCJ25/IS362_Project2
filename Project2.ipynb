{
 "cells": [
  {
   "cell_type": "markdown",
   "metadata": {
    "collapsed": true,
    "pycharm": {
     "name": "#%% md\n"
    }
   },
   "source": [
    "# Project 2\n",
    "Choose any three of the “wide” datasets identified in the Week 5 Discussion items.\n",
    "\n",
    "• Create a .CSV file (or optionally, a MySQL database!) that includes all of the information\n",
    "included in the dataset. You’re encouraged to use a “wide” structure similar to how the\n",
    "information appears in the discussion item, so that you can practice tidying and\n",
    "transformations as described below.\n",
    "\n",
    "• Read the information from your .CSV file into Python, and use pandas as needed to tidy\n",
    "and transform your data."
   ]
  },
  {
   "cell_type": "code",
   "execution_count": 2119,
   "outputs": [],
   "source": [
    "import numpy as np\n",
    "import pandas as pd\n",
    "import re\n"
   ],
   "metadata": {
    "collapsed": false,
    "pycharm": {
     "name": "#%%\n"
    }
   }
  },
  {
   "cell_type": "markdown",
   "source": [
    "## Dataset 1 Video Game Sales\n",
    "Link: https://www.kaggle.com/code/islamaljuneidi/video-game-sales-project/notebook\n",
    "- Which Game has the highest Sales?\n",
    "- Which Game has the lowest Sales?"
   ],
   "metadata": {
    "collapsed": false
   }
  },
  {
   "cell_type": "code",
   "execution_count": 2120,
   "outputs": [],
   "source": [
    "df_games= pd.read_csv(r'C:\\Users\\HP\\OneDrive\\DEsktop\\vgsales.csv')"
   ],
   "metadata": {
    "collapsed": false,
    "pycharm": {
     "name": "#%%\n"
    }
   }
  },
  {
   "cell_type": "code",
   "execution_count": 2121,
   "outputs": [
    {
     "data": {
      "text/plain": "        Rank                                              Name Platform  \\\n0          1                                        Wii Sports      Wii   \n1          2                                 Super Mario Bros.      NES   \n2          3                                    Mario Kart Wii      Wii   \n3          4                                 Wii Sports Resort      Wii   \n4          5                          Pokemon Red/Pokemon Blue       GB   \n...      ...                                               ...      ...   \n16593  16596                Woody Woodpecker in Crazy Castle 5      GBA   \n16594  16597                     Men in Black II: Alien Escape       GC   \n16595  16598  SCORE International Baja 1000: The Official Game      PS2   \n16596  16599                                        Know How 2       DS   \n16597  16600                                  Spirits & Spells      GBA   \n\n         Year         Genre   Publisher  NA_Sales  EU_Sales  JP_Sales  \\\n0      2006.0        Sports    Nintendo     41.49     29.02      3.77   \n1      1985.0      Platform    Nintendo     29.08      3.58      6.81   \n2      2008.0        Racing    Nintendo     15.85     12.88      3.79   \n3      2009.0        Sports    Nintendo     15.75     11.01      3.28   \n4      1996.0  Role-Playing    Nintendo     11.27      8.89     10.22   \n...       ...           ...         ...       ...       ...       ...   \n16593  2002.0      Platform       Kemco      0.01      0.00      0.00   \n16594  2003.0       Shooter  Infogrames      0.01      0.00      0.00   \n16595  2008.0        Racing  Activision      0.00      0.00      0.00   \n16596  2010.0        Puzzle    7G//AMES      0.00      0.01      0.00   \n16597  2003.0      Platform     Wanadoo      0.01      0.00      0.00   \n\n       Other_Sales  Global_Sales  \n0             8.46         82.74  \n1             0.77         40.24  \n2             3.31         35.82  \n3             2.96         33.00  \n4             1.00         31.37  \n...            ...           ...  \n16593         0.00          0.01  \n16594         0.00          0.01  \n16595         0.00          0.01  \n16596         0.00          0.01  \n16597         0.00          0.01  \n\n[16598 rows x 11 columns]",
      "text/html": "<div>\n<style scoped>\n    .dataframe tbody tr th:only-of-type {\n        vertical-align: middle;\n    }\n\n    .dataframe tbody tr th {\n        vertical-align: top;\n    }\n\n    .dataframe thead th {\n        text-align: right;\n    }\n</style>\n<table border=\"1\" class=\"dataframe\">\n  <thead>\n    <tr style=\"text-align: right;\">\n      <th></th>\n      <th>Rank</th>\n      <th>Name</th>\n      <th>Platform</th>\n      <th>Year</th>\n      <th>Genre</th>\n      <th>Publisher</th>\n      <th>NA_Sales</th>\n      <th>EU_Sales</th>\n      <th>JP_Sales</th>\n      <th>Other_Sales</th>\n      <th>Global_Sales</th>\n    </tr>\n  </thead>\n  <tbody>\n    <tr>\n      <th>0</th>\n      <td>1</td>\n      <td>Wii Sports</td>\n      <td>Wii</td>\n      <td>2006.0</td>\n      <td>Sports</td>\n      <td>Nintendo</td>\n      <td>41.49</td>\n      <td>29.02</td>\n      <td>3.77</td>\n      <td>8.46</td>\n      <td>82.74</td>\n    </tr>\n    <tr>\n      <th>1</th>\n      <td>2</td>\n      <td>Super Mario Bros.</td>\n      <td>NES</td>\n      <td>1985.0</td>\n      <td>Platform</td>\n      <td>Nintendo</td>\n      <td>29.08</td>\n      <td>3.58</td>\n      <td>6.81</td>\n      <td>0.77</td>\n      <td>40.24</td>\n    </tr>\n    <tr>\n      <th>2</th>\n      <td>3</td>\n      <td>Mario Kart Wii</td>\n      <td>Wii</td>\n      <td>2008.0</td>\n      <td>Racing</td>\n      <td>Nintendo</td>\n      <td>15.85</td>\n      <td>12.88</td>\n      <td>3.79</td>\n      <td>3.31</td>\n      <td>35.82</td>\n    </tr>\n    <tr>\n      <th>3</th>\n      <td>4</td>\n      <td>Wii Sports Resort</td>\n      <td>Wii</td>\n      <td>2009.0</td>\n      <td>Sports</td>\n      <td>Nintendo</td>\n      <td>15.75</td>\n      <td>11.01</td>\n      <td>3.28</td>\n      <td>2.96</td>\n      <td>33.00</td>\n    </tr>\n    <tr>\n      <th>4</th>\n      <td>5</td>\n      <td>Pokemon Red/Pokemon Blue</td>\n      <td>GB</td>\n      <td>1996.0</td>\n      <td>Role-Playing</td>\n      <td>Nintendo</td>\n      <td>11.27</td>\n      <td>8.89</td>\n      <td>10.22</td>\n      <td>1.00</td>\n      <td>31.37</td>\n    </tr>\n    <tr>\n      <th>...</th>\n      <td>...</td>\n      <td>...</td>\n      <td>...</td>\n      <td>...</td>\n      <td>...</td>\n      <td>...</td>\n      <td>...</td>\n      <td>...</td>\n      <td>...</td>\n      <td>...</td>\n      <td>...</td>\n    </tr>\n    <tr>\n      <th>16593</th>\n      <td>16596</td>\n      <td>Woody Woodpecker in Crazy Castle 5</td>\n      <td>GBA</td>\n      <td>2002.0</td>\n      <td>Platform</td>\n      <td>Kemco</td>\n      <td>0.01</td>\n      <td>0.00</td>\n      <td>0.00</td>\n      <td>0.00</td>\n      <td>0.01</td>\n    </tr>\n    <tr>\n      <th>16594</th>\n      <td>16597</td>\n      <td>Men in Black II: Alien Escape</td>\n      <td>GC</td>\n      <td>2003.0</td>\n      <td>Shooter</td>\n      <td>Infogrames</td>\n      <td>0.01</td>\n      <td>0.00</td>\n      <td>0.00</td>\n      <td>0.00</td>\n      <td>0.01</td>\n    </tr>\n    <tr>\n      <th>16595</th>\n      <td>16598</td>\n      <td>SCORE International Baja 1000: The Official Game</td>\n      <td>PS2</td>\n      <td>2008.0</td>\n      <td>Racing</td>\n      <td>Activision</td>\n      <td>0.00</td>\n      <td>0.00</td>\n      <td>0.00</td>\n      <td>0.00</td>\n      <td>0.01</td>\n    </tr>\n    <tr>\n      <th>16596</th>\n      <td>16599</td>\n      <td>Know How 2</td>\n      <td>DS</td>\n      <td>2010.0</td>\n      <td>Puzzle</td>\n      <td>7G//AMES</td>\n      <td>0.00</td>\n      <td>0.01</td>\n      <td>0.00</td>\n      <td>0.00</td>\n      <td>0.01</td>\n    </tr>\n    <tr>\n      <th>16597</th>\n      <td>16600</td>\n      <td>Spirits &amp; Spells</td>\n      <td>GBA</td>\n      <td>2003.0</td>\n      <td>Platform</td>\n      <td>Wanadoo</td>\n      <td>0.01</td>\n      <td>0.00</td>\n      <td>0.00</td>\n      <td>0.00</td>\n      <td>0.01</td>\n    </tr>\n  </tbody>\n</table>\n<p>16598 rows × 11 columns</p>\n</div>"
     },
     "execution_count": 2121,
     "metadata": {},
     "output_type": "execute_result"
    }
   ],
   "source": [
    "df_games"
   ],
   "metadata": {
    "collapsed": false,
    "pycharm": {
     "name": "#%%\n"
    }
   }
  },
  {
   "cell_type": "markdown",
   "source": [
    "#### Now we will need to assess the data for any duplicates or missing values."
   ],
   "metadata": {
    "collapsed": false,
    "pycharm": {
     "name": "#%% md\n"
    }
   }
  },
  {
   "cell_type": "code",
   "execution_count": 2122,
   "outputs": [
    {
     "name": "stdout",
     "output_type": "stream",
     "text": [
      "<class 'pandas.core.frame.DataFrame'>\n",
      "RangeIndex: 16598 entries, 0 to 16597\n",
      "Data columns (total 11 columns):\n",
      " #   Column        Non-Null Count  Dtype  \n",
      "---  ------        --------------  -----  \n",
      " 0   Rank          16598 non-null  int64  \n",
      " 1   Name          16598 non-null  object \n",
      " 2   Platform      16598 non-null  object \n",
      " 3   Year          16327 non-null  float64\n",
      " 4   Genre         16598 non-null  object \n",
      " 5   Publisher     16540 non-null  object \n",
      " 6   NA_Sales      16598 non-null  float64\n",
      " 7   EU_Sales      16598 non-null  float64\n",
      " 8   JP_Sales      16598 non-null  float64\n",
      " 9   Other_Sales   16598 non-null  float64\n",
      " 10  Global_Sales  16598 non-null  float64\n",
      "dtypes: float64(6), int64(1), object(4)\n",
      "memory usage: 1.4+ MB\n"
     ]
    }
   ],
   "source": [
    "df_games.info()"
   ],
   "metadata": {
    "collapsed": false,
    "pycharm": {
     "name": "#%%\n"
    }
   }
  },
  {
   "cell_type": "code",
   "execution_count": 2123,
   "outputs": [
    {
     "data": {
      "text/plain": "182578"
     },
     "execution_count": 2123,
     "metadata": {},
     "output_type": "execute_result"
    }
   ],
   "source": [
    "# We now from displaying the dataframe that the shape is (16598, 11). So we will now find the size, number of unique columns, and the amount of missing values.\n",
    "df_games.size"
   ],
   "metadata": {
    "collapsed": false,
    "pycharm": {
     "name": "#%%\n"
    }
   }
  },
  {
   "cell_type": "code",
   "execution_count": 2124,
   "outputs": [
    {
     "data": {
      "text/plain": "Rank            16598\nName            11493\nPlatform           31\nYear               39\nGenre              12\nPublisher         578\nNA_Sales          409\nEU_Sales          305\nJP_Sales          244\nOther_Sales       157\nGlobal_Sales      623\ndtype: int64"
     },
     "execution_count": 2124,
     "metadata": {},
     "output_type": "execute_result"
    }
   ],
   "source": [
    "df_games.nunique()"
   ],
   "metadata": {
    "collapsed": false,
    "pycharm": {
     "name": "#%%\n"
    }
   }
  },
  {
   "cell_type": "code",
   "execution_count": 2125,
   "outputs": [
    {
     "data": {
      "text/plain": "Rank              0\nName              0\nPlatform          0\nYear            271\nGenre             0\nPublisher        58\nNA_Sales          0\nEU_Sales          0\nJP_Sales          0\nOther_Sales       0\nGlobal_Sales      0\ndtype: int64"
     },
     "execution_count": 2125,
     "metadata": {},
     "output_type": "execute_result"
    }
   ],
   "source": [
    "df_games.isnull().sum()"
   ],
   "metadata": {
    "collapsed": false,
    "pycharm": {
     "name": "#%%\n"
    }
   }
  },
  {
   "cell_type": "code",
   "execution_count": 2126,
   "outputs": [
    {
     "data": {
      "text/plain": "        Rank                         Name Platform    Year    Genre  \\\n603      604                Madden NFL 13      PS3  2012.0   Sports   \n1173    1175  Need for Speed: Most Wanted     X360  2012.0   Racing   \n5900    5902  Need for Speed: Most Wanted       PC  2005.0   Racing   \n14997  15000  Wii de Asobu: Metroid Prime      Wii     NaN  Shooter   \n\n             Publisher  NA_Sales  EU_Sales  JP_Sales  Other_Sales  \\\n603    Electronic Arts      2.11      0.23      0.00         0.22   \n1173   Electronic Arts      0.62      0.80      0.01         0.15   \n5900   Electronic Arts      0.02      0.23      0.00         0.05   \n14997         Nintendo      0.00      0.00      0.02         0.00   \n\n       Global_Sales  \n603            2.56  \n1173           1.58  \n5900           0.30  \n14997          0.02  ",
      "text/html": "<div>\n<style scoped>\n    .dataframe tbody tr th:only-of-type {\n        vertical-align: middle;\n    }\n\n    .dataframe tbody tr th {\n        vertical-align: top;\n    }\n\n    .dataframe thead th {\n        text-align: right;\n    }\n</style>\n<table border=\"1\" class=\"dataframe\">\n  <thead>\n    <tr style=\"text-align: right;\">\n      <th></th>\n      <th>Rank</th>\n      <th>Name</th>\n      <th>Platform</th>\n      <th>Year</th>\n      <th>Genre</th>\n      <th>Publisher</th>\n      <th>NA_Sales</th>\n      <th>EU_Sales</th>\n      <th>JP_Sales</th>\n      <th>Other_Sales</th>\n      <th>Global_Sales</th>\n    </tr>\n  </thead>\n  <tbody>\n    <tr>\n      <th>603</th>\n      <td>604</td>\n      <td>Madden NFL 13</td>\n      <td>PS3</td>\n      <td>2012.0</td>\n      <td>Sports</td>\n      <td>Electronic Arts</td>\n      <td>2.11</td>\n      <td>0.23</td>\n      <td>0.00</td>\n      <td>0.22</td>\n      <td>2.56</td>\n    </tr>\n    <tr>\n      <th>1173</th>\n      <td>1175</td>\n      <td>Need for Speed: Most Wanted</td>\n      <td>X360</td>\n      <td>2012.0</td>\n      <td>Racing</td>\n      <td>Electronic Arts</td>\n      <td>0.62</td>\n      <td>0.80</td>\n      <td>0.01</td>\n      <td>0.15</td>\n      <td>1.58</td>\n    </tr>\n    <tr>\n      <th>5900</th>\n      <td>5902</td>\n      <td>Need for Speed: Most Wanted</td>\n      <td>PC</td>\n      <td>2005.0</td>\n      <td>Racing</td>\n      <td>Electronic Arts</td>\n      <td>0.02</td>\n      <td>0.23</td>\n      <td>0.00</td>\n      <td>0.05</td>\n      <td>0.30</td>\n    </tr>\n    <tr>\n      <th>14997</th>\n      <td>15000</td>\n      <td>Wii de Asobu: Metroid Prime</td>\n      <td>Wii</td>\n      <td>NaN</td>\n      <td>Shooter</td>\n      <td>Nintendo</td>\n      <td>0.00</td>\n      <td>0.00</td>\n      <td>0.02</td>\n      <td>0.00</td>\n      <td>0.02</td>\n    </tr>\n  </tbody>\n</table>\n</div>"
     },
     "execution_count": 2126,
     "metadata": {},
     "output_type": "execute_result"
    }
   ],
   "source": [
    "#From looking at Raw data I am aware of duplicates located in specific columns.\n",
    "df_games[df_games.duplicated(subset=[\"Name\",\"Genre\",\"Platform\",\"Publisher\"],keep=\"last\")]\n"
   ],
   "metadata": {
    "collapsed": false,
    "pycharm": {
     "name": "#%%\n"
    }
   }
  },
  {
   "cell_type": "markdown",
   "source": [
    "#### Let's Clean the Data :)\n",
    "Here we will rename, reformat, and remove columns from the dataset to allow ut to be easily read and understood."
   ],
   "metadata": {
    "collapsed": false
   }
  },
  {
   "cell_type": "code",
   "execution_count": 2127,
   "outputs": [
    {
     "data": {
      "text/plain": "   Rank               Name Platform    Year     Genre Publisher  NA_Sales  \\\n0     1         Wii Sports      Wii  2006.0    Sports  Nintendo     41.49   \n1     2  Super Mario Bros.      NES  1985.0  Platform  Nintendo     29.08   \n\n   EU_Sales  JP_Sales  Other_Sales  Global_Sales  \n0     29.02      3.77         8.46         82.74  \n1      3.58      6.81         0.77         40.24  ",
      "text/html": "<div>\n<style scoped>\n    .dataframe tbody tr th:only-of-type {\n        vertical-align: middle;\n    }\n\n    .dataframe tbody tr th {\n        vertical-align: top;\n    }\n\n    .dataframe thead th {\n        text-align: right;\n    }\n</style>\n<table border=\"1\" class=\"dataframe\">\n  <thead>\n    <tr style=\"text-align: right;\">\n      <th></th>\n      <th>Rank</th>\n      <th>Name</th>\n      <th>Platform</th>\n      <th>Year</th>\n      <th>Genre</th>\n      <th>Publisher</th>\n      <th>NA_Sales</th>\n      <th>EU_Sales</th>\n      <th>JP_Sales</th>\n      <th>Other_Sales</th>\n      <th>Global_Sales</th>\n    </tr>\n  </thead>\n  <tbody>\n    <tr>\n      <th>0</th>\n      <td>1</td>\n      <td>Wii Sports</td>\n      <td>Wii</td>\n      <td>2006.0</td>\n      <td>Sports</td>\n      <td>Nintendo</td>\n      <td>41.49</td>\n      <td>29.02</td>\n      <td>3.77</td>\n      <td>8.46</td>\n      <td>82.74</td>\n    </tr>\n    <tr>\n      <th>1</th>\n      <td>2</td>\n      <td>Super Mario Bros.</td>\n      <td>NES</td>\n      <td>1985.0</td>\n      <td>Platform</td>\n      <td>Nintendo</td>\n      <td>29.08</td>\n      <td>3.58</td>\n      <td>6.81</td>\n      <td>0.77</td>\n      <td>40.24</td>\n    </tr>\n  </tbody>\n</table>\n</div>"
     },
     "execution_count": 2127,
     "metadata": {},
     "output_type": "execute_result"
    }
   ],
   "source": [
    "df_games.head(2)"
   ],
   "metadata": {
    "collapsed": false,
    "pycharm": {
     "name": "#%%\n"
    }
   }
  },
  {
   "cell_type": "code",
   "execution_count": 2128,
   "outputs": [],
   "source": [
    "# NA, EU, and JP will be renamed to North American, European, and Japan for clarity.\n",
    "columns=['Rank', 'Name', 'Genre', 'Platform', 'Publisher', 'North_America_Sales','urope_Sales', 'Japan_Sales', 'Other_Sales', 'Global_Sales', 'Year']\n",
    "df_games=df_games.rename(columns={\"NA_Sales\":\"North_America_Sales\",\"EU_Sales\":\"European_Sales\",\"JP_Sales\":\"Japan_Sales\"})"
   ],
   "metadata": {
    "collapsed": false,
    "pycharm": {
     "name": "#%%\n"
    }
   }
  },
  {
   "cell_type": "markdown",
   "source": [
    "### Optional Cleaning\n",
    "#### The Rank column gives the same data as the index, dropping it will allow for a cleaner appearance.\n",
    "#### However, it will not effect the data if left. For purpose of appearance I will be removing it."
   ],
   "metadata": {
    "collapsed": false,
    "pycharm": {
     "name": "#%% md\n"
    }
   }
  },
  {
   "cell_type": "code",
   "execution_count": 2129,
   "outputs": [],
   "source": [
    "df_games.drop(columns=\"Rank\",inplace=True)"
   ],
   "metadata": {
    "collapsed": false,
    "pycharm": {
     "name": "#%%\n"
    }
   }
  },
  {
   "cell_type": "code",
   "execution_count": 2130,
   "outputs": [
    {
     "data": {
      "text/plain": "                Name Platform    Year     Genre Publisher  \\\n0         Wii Sports      Wii  2006.0    Sports  Nintendo   \n1  Super Mario Bros.      NES  1985.0  Platform  Nintendo   \n\n   North_America_Sales  European_Sales  Japan_Sales  Other_Sales  Global_Sales  \n0                41.49           29.02         3.77         8.46         82.74  \n1                29.08            3.58         6.81         0.77         40.24  ",
      "text/html": "<div>\n<style scoped>\n    .dataframe tbody tr th:only-of-type {\n        vertical-align: middle;\n    }\n\n    .dataframe tbody tr th {\n        vertical-align: top;\n    }\n\n    .dataframe thead th {\n        text-align: right;\n    }\n</style>\n<table border=\"1\" class=\"dataframe\">\n  <thead>\n    <tr style=\"text-align: right;\">\n      <th></th>\n      <th>Name</th>\n      <th>Platform</th>\n      <th>Year</th>\n      <th>Genre</th>\n      <th>Publisher</th>\n      <th>North_America_Sales</th>\n      <th>European_Sales</th>\n      <th>Japan_Sales</th>\n      <th>Other_Sales</th>\n      <th>Global_Sales</th>\n    </tr>\n  </thead>\n  <tbody>\n    <tr>\n      <th>0</th>\n      <td>Wii Sports</td>\n      <td>Wii</td>\n      <td>2006.0</td>\n      <td>Sports</td>\n      <td>Nintendo</td>\n      <td>41.49</td>\n      <td>29.02</td>\n      <td>3.77</td>\n      <td>8.46</td>\n      <td>82.74</td>\n    </tr>\n    <tr>\n      <th>1</th>\n      <td>Super Mario Bros.</td>\n      <td>NES</td>\n      <td>1985.0</td>\n      <td>Platform</td>\n      <td>Nintendo</td>\n      <td>29.08</td>\n      <td>3.58</td>\n      <td>6.81</td>\n      <td>0.77</td>\n      <td>40.24</td>\n    </tr>\n  </tbody>\n</table>\n</div>"
     },
     "execution_count": 2130,
     "metadata": {},
     "output_type": "execute_result"
    }
   ],
   "source": [
    "df_games.head(2)"
   ],
   "metadata": {
    "collapsed": false,
    "pycharm": {
     "name": "#%%\n"
    }
   }
  },
  {
   "cell_type": "code",
   "execution_count": 2131,
   "outputs": [
    {
     "data": {
      "text/plain": "                                                   Name Platform    Year  \\\n0                                            Wii Sports      Wii  2006.0   \n1                                     Super Mario Bros.      NES  1985.0   \n2                                        Mario Kart Wii      Wii  2008.0   \n3                                     Wii Sports Resort      Wii  2009.0   \n4                              Pokemon Red/Pokemon Blue       GB  1996.0   \n...                                                 ...      ...     ...   \n16593                Woody Woodpecker in Crazy Castle 5      GBA  2002.0   \n16594                     Men in Black II: Alien Escape       GC  2003.0   \n16595  SCORE International Baja 1000: The Official Game      PS2  2008.0   \n16596                                        Know How 2       DS  2010.0   \n16597                                  Spirits & Spells      GBA  2003.0   \n\n              Genre   Publisher  North_America_Sales  European_Sales  \\\n0            Sports    Nintendo                41.49           29.02   \n1          Platform    Nintendo                29.08            3.58   \n2            Racing    Nintendo                15.85           12.88   \n3            Sports    Nintendo                15.75           11.01   \n4      Role-Playing    Nintendo                11.27            8.89   \n...             ...         ...                  ...             ...   \n16593      Platform       Kemco                 0.01            0.00   \n16594       Shooter  Infogrames                 0.01            0.00   \n16595        Racing  Activision                 0.00            0.00   \n16596        Puzzle    7G//AMES                 0.00            0.01   \n16597      Platform     Wanadoo                 0.01            0.00   \n\n       Japan_Sales  Other_Sales  Global_Sales  \n0             3.77         8.46         82.74  \n1             6.81         0.77         40.24  \n2             3.79         3.31         35.82  \n3             3.28         2.96         33.00  \n4            10.22         1.00         31.37  \n...            ...          ...           ...  \n16593         0.00         0.00          0.01  \n16594         0.00         0.00          0.01  \n16595         0.00         0.00          0.01  \n16596         0.00         0.00          0.01  \n16597         0.00         0.00          0.01  \n\n[16598 rows x 10 columns]",
      "text/html": "<div>\n<style scoped>\n    .dataframe tbody tr th:only-of-type {\n        vertical-align: middle;\n    }\n\n    .dataframe tbody tr th {\n        vertical-align: top;\n    }\n\n    .dataframe thead th {\n        text-align: right;\n    }\n</style>\n<table border=\"1\" class=\"dataframe\">\n  <thead>\n    <tr style=\"text-align: right;\">\n      <th></th>\n      <th>Name</th>\n      <th>Platform</th>\n      <th>Year</th>\n      <th>Genre</th>\n      <th>Publisher</th>\n      <th>North_America_Sales</th>\n      <th>European_Sales</th>\n      <th>Japan_Sales</th>\n      <th>Other_Sales</th>\n      <th>Global_Sales</th>\n    </tr>\n  </thead>\n  <tbody>\n    <tr>\n      <th>0</th>\n      <td>Wii Sports</td>\n      <td>Wii</td>\n      <td>2006.0</td>\n      <td>Sports</td>\n      <td>Nintendo</td>\n      <td>41.49</td>\n      <td>29.02</td>\n      <td>3.77</td>\n      <td>8.46</td>\n      <td>82.74</td>\n    </tr>\n    <tr>\n      <th>1</th>\n      <td>Super Mario Bros.</td>\n      <td>NES</td>\n      <td>1985.0</td>\n      <td>Platform</td>\n      <td>Nintendo</td>\n      <td>29.08</td>\n      <td>3.58</td>\n      <td>6.81</td>\n      <td>0.77</td>\n      <td>40.24</td>\n    </tr>\n    <tr>\n      <th>2</th>\n      <td>Mario Kart Wii</td>\n      <td>Wii</td>\n      <td>2008.0</td>\n      <td>Racing</td>\n      <td>Nintendo</td>\n      <td>15.85</td>\n      <td>12.88</td>\n      <td>3.79</td>\n      <td>3.31</td>\n      <td>35.82</td>\n    </tr>\n    <tr>\n      <th>3</th>\n      <td>Wii Sports Resort</td>\n      <td>Wii</td>\n      <td>2009.0</td>\n      <td>Sports</td>\n      <td>Nintendo</td>\n      <td>15.75</td>\n      <td>11.01</td>\n      <td>3.28</td>\n      <td>2.96</td>\n      <td>33.00</td>\n    </tr>\n    <tr>\n      <th>4</th>\n      <td>Pokemon Red/Pokemon Blue</td>\n      <td>GB</td>\n      <td>1996.0</td>\n      <td>Role-Playing</td>\n      <td>Nintendo</td>\n      <td>11.27</td>\n      <td>8.89</td>\n      <td>10.22</td>\n      <td>1.00</td>\n      <td>31.37</td>\n    </tr>\n    <tr>\n      <th>...</th>\n      <td>...</td>\n      <td>...</td>\n      <td>...</td>\n      <td>...</td>\n      <td>...</td>\n      <td>...</td>\n      <td>...</td>\n      <td>...</td>\n      <td>...</td>\n      <td>...</td>\n    </tr>\n    <tr>\n      <th>16593</th>\n      <td>Woody Woodpecker in Crazy Castle 5</td>\n      <td>GBA</td>\n      <td>2002.0</td>\n      <td>Platform</td>\n      <td>Kemco</td>\n      <td>0.01</td>\n      <td>0.00</td>\n      <td>0.00</td>\n      <td>0.00</td>\n      <td>0.01</td>\n    </tr>\n    <tr>\n      <th>16594</th>\n      <td>Men in Black II: Alien Escape</td>\n      <td>GC</td>\n      <td>2003.0</td>\n      <td>Shooter</td>\n      <td>Infogrames</td>\n      <td>0.01</td>\n      <td>0.00</td>\n      <td>0.00</td>\n      <td>0.00</td>\n      <td>0.01</td>\n    </tr>\n    <tr>\n      <th>16595</th>\n      <td>SCORE International Baja 1000: The Official Game</td>\n      <td>PS2</td>\n      <td>2008.0</td>\n      <td>Racing</td>\n      <td>Activision</td>\n      <td>0.00</td>\n      <td>0.00</td>\n      <td>0.00</td>\n      <td>0.00</td>\n      <td>0.01</td>\n    </tr>\n    <tr>\n      <th>16596</th>\n      <td>Know How 2</td>\n      <td>DS</td>\n      <td>2010.0</td>\n      <td>Puzzle</td>\n      <td>7G//AMES</td>\n      <td>0.00</td>\n      <td>0.01</td>\n      <td>0.00</td>\n      <td>0.00</td>\n      <td>0.01</td>\n    </tr>\n    <tr>\n      <th>16597</th>\n      <td>Spirits &amp; Spells</td>\n      <td>GBA</td>\n      <td>2003.0</td>\n      <td>Platform</td>\n      <td>Wanadoo</td>\n      <td>0.01</td>\n      <td>0.00</td>\n      <td>0.00</td>\n      <td>0.00</td>\n      <td>0.01</td>\n    </tr>\n  </tbody>\n</table>\n<p>16598 rows × 10 columns</p>\n</div>"
     },
     "execution_count": 2131,
     "metadata": {},
     "output_type": "execute_result"
    }
   ],
   "source": [
    "#  Look over changes made to data.\n",
    "df_games"
   ],
   "metadata": {
    "collapsed": false,
    "pycharm": {
     "name": "#%%\n"
    }
   }
  },
  {
   "cell_type": "markdown",
   "source": [
    "#### Let's answer the two posed questions\n",
    "1. The game with the highest sales?"
   ],
   "metadata": {
    "collapsed": false
   }
  },
  {
   "cell_type": "code",
   "execution_count": 2132,
   "outputs": [
    {
     "data": {
      "text/plain": "                        Name         Genre  Global_Sales\n0                 Wii Sports        Sports         82.74\n1          Super Mario Bros.      Platform         40.24\n2             Mario Kart Wii        Racing         35.82\n3          Wii Sports Resort        Sports         33.00\n4   Pokemon Red/Pokemon Blue  Role-Playing         31.37\n5                     Tetris        Puzzle         30.26\n6      New Super Mario Bros.      Platform         30.01\n7                   Wii Play          Misc         29.02\n8  New Super Mario Bros. Wii      Platform         28.62\n9                  Duck Hunt       Shooter         28.31",
      "text/html": "<div>\n<style scoped>\n    .dataframe tbody tr th:only-of-type {\n        vertical-align: middle;\n    }\n\n    .dataframe tbody tr th {\n        vertical-align: top;\n    }\n\n    .dataframe thead th {\n        text-align: right;\n    }\n</style>\n<table border=\"1\" class=\"dataframe\">\n  <thead>\n    <tr style=\"text-align: right;\">\n      <th></th>\n      <th>Name</th>\n      <th>Genre</th>\n      <th>Global_Sales</th>\n    </tr>\n  </thead>\n  <tbody>\n    <tr>\n      <th>0</th>\n      <td>Wii Sports</td>\n      <td>Sports</td>\n      <td>82.74</td>\n    </tr>\n    <tr>\n      <th>1</th>\n      <td>Super Mario Bros.</td>\n      <td>Platform</td>\n      <td>40.24</td>\n    </tr>\n    <tr>\n      <th>2</th>\n      <td>Mario Kart Wii</td>\n      <td>Racing</td>\n      <td>35.82</td>\n    </tr>\n    <tr>\n      <th>3</th>\n      <td>Wii Sports Resort</td>\n      <td>Sports</td>\n      <td>33.00</td>\n    </tr>\n    <tr>\n      <th>4</th>\n      <td>Pokemon Red/Pokemon Blue</td>\n      <td>Role-Playing</td>\n      <td>31.37</td>\n    </tr>\n    <tr>\n      <th>5</th>\n      <td>Tetris</td>\n      <td>Puzzle</td>\n      <td>30.26</td>\n    </tr>\n    <tr>\n      <th>6</th>\n      <td>New Super Mario Bros.</td>\n      <td>Platform</td>\n      <td>30.01</td>\n    </tr>\n    <tr>\n      <th>7</th>\n      <td>Wii Play</td>\n      <td>Misc</td>\n      <td>29.02</td>\n    </tr>\n    <tr>\n      <th>8</th>\n      <td>New Super Mario Bros. Wii</td>\n      <td>Platform</td>\n      <td>28.62</td>\n    </tr>\n    <tr>\n      <th>9</th>\n      <td>Duck Hunt</td>\n      <td>Shooter</td>\n      <td>28.31</td>\n    </tr>\n  </tbody>\n</table>\n</div>"
     },
     "execution_count": 2132,
     "metadata": {},
     "output_type": "execute_result"
    }
   ],
   "source": [
    "df_games[['Name', 'Genre', 'Global_Sales']].sort_values('Global_Sales', ascending=False).head(10)\n"
   ],
   "metadata": {
    "collapsed": false,
    "pycharm": {
     "name": "#%%\n"
    }
   }
  },
  {
   "cell_type": "markdown",
   "source": [
    "Wii Sports has the highest Sales Globally.\n",
    "\n",
    "2. Which game  has the lowest Sales?"
   ],
   "metadata": {
    "collapsed": false
   }
  },
  {
   "cell_type": "code",
   "execution_count": 2133,
   "outputs": [
    {
     "data": {
      "text/plain": "                   Name     Genre  Global_Sales\n16597  Spirits & Spells  Platform          0.01",
      "text/html": "<div>\n<style scoped>\n    .dataframe tbody tr th:only-of-type {\n        vertical-align: middle;\n    }\n\n    .dataframe tbody tr th {\n        vertical-align: top;\n    }\n\n    .dataframe thead th {\n        text-align: right;\n    }\n</style>\n<table border=\"1\" class=\"dataframe\">\n  <thead>\n    <tr style=\"text-align: right;\">\n      <th></th>\n      <th>Name</th>\n      <th>Genre</th>\n      <th>Global_Sales</th>\n    </tr>\n  </thead>\n  <tbody>\n    <tr>\n      <th>16597</th>\n      <td>Spirits &amp; Spells</td>\n      <td>Platform</td>\n      <td>0.01</td>\n    </tr>\n  </tbody>\n</table>\n</div>"
     },
     "execution_count": 2133,
     "metadata": {},
     "output_type": "execute_result"
    }
   ],
   "source": [
    "df_games[['Name', 'Genre', 'Global_Sales']].sort_values('Global_Sales', ascending=True).head(1)\n",
    "\n"
   ],
   "metadata": {
    "collapsed": false,
    "pycharm": {
     "name": "#%%\n"
    }
   }
  },
  {
   "cell_type": "markdown",
   "source": [
    "Spirits and Spells has the lowest sales out of all games."
   ],
   "metadata": {
    "collapsed": false
   }
  },
  {
   "cell_type": "markdown",
   "source": [
    "## Dataset 2 Movie Visualization and Recommendation System\n",
    "Link: https://www.kaggle.com/code/chanoncharuchinda/movie-visualization-and-recommendation-system\n",
    "\n",
    "1. Highest Grossing Movie?\n",
    "2. Top Movie Genre?"
   ],
   "metadata": {
    "collapsed": false
   }
  },
  {
   "cell_type": "code",
   "execution_count": 2134,
   "outputs": [],
   "source": [
    "df_movies= pd.read_csv(r'C:\\Users\\HP\\OneDrive\\Desktop\\movies.csv')"
   ],
   "metadata": {
    "collapsed": false,
    "pycharm": {
     "name": "#%%\n"
    }
   }
  },
  {
   "cell_type": "code",
   "execution_count": 2135,
   "outputs": [
    {
     "data": {
      "text/plain": "                                   MOVIES         YEAR  \\\n0                           Blood Red Sky       (2021)   \n1     Masters of the Universe: Revelation     (2021– )   \n2                        The Walking Dead  (2010–2022)   \n3                          Rick and Morty     (2013– )   \n4                         Army of Thieves       (2021)   \n...                                   ...          ...   \n9994                       The Imperfects     (2021– )   \n9995                               Arcane     (2021– )   \n9996                    Heart of Invictus     (2022– )   \n9997                       The Imperfects     (2021– )   \n9998                       The Imperfects     (2021– )   \n\n                                           GENRE  RATING  \\\n0         \\nAction, Horror, Thriller                 6.1   \n1     \\nAnimation, Action, Adventure                 5.0   \n2          \\nDrama, Horror, Thriller                 8.2   \n3     \\nAnimation, Adventure, Comedy                 9.2   \n4            \\nAction, Crime, Horror                 NaN   \n...                                          ...     ...   \n9994     \\nAdventure, Drama, Fantasy                 NaN   \n9995  \\nAnimation, Action, Adventure                 NaN   \n9996            \\nDocumentary, Sport                 NaN   \n9997     \\nAdventure, Drama, Fantasy                 NaN   \n9998     \\nAdventure, Drama, Fantasy                 NaN   \n\n                                               ONE-LINE  \\\n0     \\nA woman with a mysterious illness is forced ...   \n1     \\nThe war for Eternia begins again in what may...   \n2     \\nSheriff Deputy Rick Grimes wakes up from a c...   \n3     \\nAn animated series that follows the exploits...   \n4     \\nA prequel, set before the events of Army of ...   \n...                                                 ...   \n9994                                     \\nAdd a Plot\\n   \n9995                                     \\nAdd a Plot\\n   \n9996                                     \\nAdd a Plot\\n   \n9997                                     \\nAdd a Plot\\n   \n9998                                     \\nAdd a Plot\\n   \n\n                                                  STARS    VOTES  RunTime  \\\n0     \\n    Director:\\nPeter Thorwarth\\n| \\n    Star...   21,062    121.0   \n1     \\n            \\n    Stars:\\nChris Wood, \\nSara...   17,870     25.0   \n2     \\n            \\n    Stars:\\nAndrew Lincoln, \\n...  885,805     44.0   \n3     \\n            \\n    Stars:\\nJustin Roiland, \\n...  414,849     23.0   \n4     \\n    Director:\\nMatthias Schweighöfer\\n| \\n  ...      NaN      NaN   \n...                                                 ...      ...      ...   \n9994  \\n            \\n    Stars:\\nMorgan Taylor Camp...      NaN      NaN   \n9995                                                 \\n      NaN      NaN   \n9996  \\n    Director:\\nOrlando von Einsiedel\\n| \\n  ...      NaN      NaN   \n9997  \\n    Director:\\nJovanka Vuckovic\\n| \\n    Sta...      NaN      NaN   \n9998  \\n    Director:\\nJovanka Vuckovic\\n| \\n    Sta...      NaN      NaN   \n\n     Gross  \n0      NaN  \n1      NaN  \n2      NaN  \n3      NaN  \n4      NaN  \n...    ...  \n9994   NaN  \n9995   NaN  \n9996   NaN  \n9997   NaN  \n9998   NaN  \n\n[9999 rows x 9 columns]",
      "text/html": "<div>\n<style scoped>\n    .dataframe tbody tr th:only-of-type {\n        vertical-align: middle;\n    }\n\n    .dataframe tbody tr th {\n        vertical-align: top;\n    }\n\n    .dataframe thead th {\n        text-align: right;\n    }\n</style>\n<table border=\"1\" class=\"dataframe\">\n  <thead>\n    <tr style=\"text-align: right;\">\n      <th></th>\n      <th>MOVIES</th>\n      <th>YEAR</th>\n      <th>GENRE</th>\n      <th>RATING</th>\n      <th>ONE-LINE</th>\n      <th>STARS</th>\n      <th>VOTES</th>\n      <th>RunTime</th>\n      <th>Gross</th>\n    </tr>\n  </thead>\n  <tbody>\n    <tr>\n      <th>0</th>\n      <td>Blood Red Sky</td>\n      <td>(2021)</td>\n      <td>\\nAction, Horror, Thriller</td>\n      <td>6.1</td>\n      <td>\\nA woman with a mysterious illness is forced ...</td>\n      <td>\\n    Director:\\nPeter Thorwarth\\n| \\n    Star...</td>\n      <td>21,062</td>\n      <td>121.0</td>\n      <td>NaN</td>\n    </tr>\n    <tr>\n      <th>1</th>\n      <td>Masters of the Universe: Revelation</td>\n      <td>(2021– )</td>\n      <td>\\nAnimation, Action, Adventure</td>\n      <td>5.0</td>\n      <td>\\nThe war for Eternia begins again in what may...</td>\n      <td>\\n            \\n    Stars:\\nChris Wood, \\nSara...</td>\n      <td>17,870</td>\n      <td>25.0</td>\n      <td>NaN</td>\n    </tr>\n    <tr>\n      <th>2</th>\n      <td>The Walking Dead</td>\n      <td>(2010–2022)</td>\n      <td>\\nDrama, Horror, Thriller</td>\n      <td>8.2</td>\n      <td>\\nSheriff Deputy Rick Grimes wakes up from a c...</td>\n      <td>\\n            \\n    Stars:\\nAndrew Lincoln, \\n...</td>\n      <td>885,805</td>\n      <td>44.0</td>\n      <td>NaN</td>\n    </tr>\n    <tr>\n      <th>3</th>\n      <td>Rick and Morty</td>\n      <td>(2013– )</td>\n      <td>\\nAnimation, Adventure, Comedy</td>\n      <td>9.2</td>\n      <td>\\nAn animated series that follows the exploits...</td>\n      <td>\\n            \\n    Stars:\\nJustin Roiland, \\n...</td>\n      <td>414,849</td>\n      <td>23.0</td>\n      <td>NaN</td>\n    </tr>\n    <tr>\n      <th>4</th>\n      <td>Army of Thieves</td>\n      <td>(2021)</td>\n      <td>\\nAction, Crime, Horror</td>\n      <td>NaN</td>\n      <td>\\nA prequel, set before the events of Army of ...</td>\n      <td>\\n    Director:\\nMatthias Schweighöfer\\n| \\n  ...</td>\n      <td>NaN</td>\n      <td>NaN</td>\n      <td>NaN</td>\n    </tr>\n    <tr>\n      <th>...</th>\n      <td>...</td>\n      <td>...</td>\n      <td>...</td>\n      <td>...</td>\n      <td>...</td>\n      <td>...</td>\n      <td>...</td>\n      <td>...</td>\n      <td>...</td>\n    </tr>\n    <tr>\n      <th>9994</th>\n      <td>The Imperfects</td>\n      <td>(2021– )</td>\n      <td>\\nAdventure, Drama, Fantasy</td>\n      <td>NaN</td>\n      <td>\\nAdd a Plot\\n</td>\n      <td>\\n            \\n    Stars:\\nMorgan Taylor Camp...</td>\n      <td>NaN</td>\n      <td>NaN</td>\n      <td>NaN</td>\n    </tr>\n    <tr>\n      <th>9995</th>\n      <td>Arcane</td>\n      <td>(2021– )</td>\n      <td>\\nAnimation, Action, Adventure</td>\n      <td>NaN</td>\n      <td>\\nAdd a Plot\\n</td>\n      <td>\\n</td>\n      <td>NaN</td>\n      <td>NaN</td>\n      <td>NaN</td>\n    </tr>\n    <tr>\n      <th>9996</th>\n      <td>Heart of Invictus</td>\n      <td>(2022– )</td>\n      <td>\\nDocumentary, Sport</td>\n      <td>NaN</td>\n      <td>\\nAdd a Plot\\n</td>\n      <td>\\n    Director:\\nOrlando von Einsiedel\\n| \\n  ...</td>\n      <td>NaN</td>\n      <td>NaN</td>\n      <td>NaN</td>\n    </tr>\n    <tr>\n      <th>9997</th>\n      <td>The Imperfects</td>\n      <td>(2021– )</td>\n      <td>\\nAdventure, Drama, Fantasy</td>\n      <td>NaN</td>\n      <td>\\nAdd a Plot\\n</td>\n      <td>\\n    Director:\\nJovanka Vuckovic\\n| \\n    Sta...</td>\n      <td>NaN</td>\n      <td>NaN</td>\n      <td>NaN</td>\n    </tr>\n    <tr>\n      <th>9998</th>\n      <td>The Imperfects</td>\n      <td>(2021– )</td>\n      <td>\\nAdventure, Drama, Fantasy</td>\n      <td>NaN</td>\n      <td>\\nAdd a Plot\\n</td>\n      <td>\\n    Director:\\nJovanka Vuckovic\\n| \\n    Sta...</td>\n      <td>NaN</td>\n      <td>NaN</td>\n      <td>NaN</td>\n    </tr>\n  </tbody>\n</table>\n<p>9999 rows × 9 columns</p>\n</div>"
     },
     "execution_count": 2135,
     "metadata": {},
     "output_type": "execute_result"
    }
   ],
   "source": [
    "df_movies"
   ],
   "metadata": {
    "collapsed": false,
    "pycharm": {
     "name": "#%%\n"
    }
   }
  },
  {
   "cell_type": "code",
   "execution_count": 2136,
   "outputs": [
    {
     "data": {
      "text/plain": "MOVIES         0\nYEAR         644\nGENRE         80\nRATING      1820\nONE-LINE       0\nSTARS          0\nVOTES       1820\nRunTime     2958\nGross       9539\ndtype: int64"
     },
     "execution_count": 2136,
     "metadata": {},
     "output_type": "execute_result"
    }
   ],
   "source": [
    "#Checking Data for missing Values.\n",
    "df_movies.isna().sum()"
   ],
   "metadata": {
    "collapsed": false,
    "pycharm": {
     "name": "#%%\n"
    }
   }
  },
  {
   "cell_type": "code",
   "execution_count": 2137,
   "outputs": [
    {
     "name": "stdout",
     "output_type": "stream",
     "text": [
      "<class 'pandas.core.frame.DataFrame'>\n",
      "RangeIndex: 9999 entries, 0 to 9998\n",
      "Data columns (total 9 columns):\n",
      " #   Column    Non-Null Count  Dtype  \n",
      "---  ------    --------------  -----  \n",
      " 0   MOVIES    9999 non-null   object \n",
      " 1   YEAR      9355 non-null   object \n",
      " 2   GENRE     9919 non-null   object \n",
      " 3   RATING    8179 non-null   float64\n",
      " 4   ONE-LINE  9999 non-null   object \n",
      " 5   STARS     9999 non-null   object \n",
      " 6   VOTES     8179 non-null   object \n",
      " 7   RunTime   7041 non-null   float64\n",
      " 8   Gross     460 non-null    object \n",
      "dtypes: float64(2), object(7)\n",
      "memory usage: 703.2+ KB\n"
     ]
    }
   ],
   "source": [
    "#Display movie info.\n",
    "df_movies.info()"
   ],
   "metadata": {
    "collapsed": false,
    "pycharm": {
     "name": "#%%\n"
    }
   }
  },
  {
   "cell_type": "markdown",
   "source": [
    "### Let's Clean the data :)\n"
   ],
   "metadata": {
    "collapsed": false
   }
  },
  {
   "cell_type": "code",
   "execution_count": 2138,
   "outputs": [],
   "source": [
    "# The data has a \"\\n\" featured in several columns disrupting the text written within. Let's remove it to give it a cleaner appearance.\n",
    "for col in ['GENRE','ONE-LINE','STARS']:\n",
    "    df_movies[col] = df_movies[col].str.replace(\"\\n\",\"\").str.strip()"
   ],
   "metadata": {
    "collapsed": false,
    "pycharm": {
     "name": "#%%\n"
    }
   }
  },
  {
   "cell_type": "code",
   "execution_count": 2139,
   "outputs": [
    {
     "data": {
      "text/plain": "                                MOVIES      YEAR  \\\n0                        Blood Red Sky    (2021)   \n1  Masters of the Universe: Revelation  (2021– )   \n\n                          GENRE  RATING  \\\n0      Action, Horror, Thriller     6.1   \n1  Animation, Action, Adventure     5.0   \n\n                                            ONE-LINE  \\\n0  A woman with a mysterious illness is forced in...   \n1  The war for Eternia begins again in what may b...   \n\n                                               STARS   VOTES  RunTime Gross  \n0  Director:Peter Thorwarth|     Stars:Peri Baume...  21,062    121.0   NaN  \n1  Stars:Chris Wood, Sarah Michelle Gellar, Lena ...  17,870     25.0   NaN  ",
      "text/html": "<div>\n<style scoped>\n    .dataframe tbody tr th:only-of-type {\n        vertical-align: middle;\n    }\n\n    .dataframe tbody tr th {\n        vertical-align: top;\n    }\n\n    .dataframe thead th {\n        text-align: right;\n    }\n</style>\n<table border=\"1\" class=\"dataframe\">\n  <thead>\n    <tr style=\"text-align: right;\">\n      <th></th>\n      <th>MOVIES</th>\n      <th>YEAR</th>\n      <th>GENRE</th>\n      <th>RATING</th>\n      <th>ONE-LINE</th>\n      <th>STARS</th>\n      <th>VOTES</th>\n      <th>RunTime</th>\n      <th>Gross</th>\n    </tr>\n  </thead>\n  <tbody>\n    <tr>\n      <th>0</th>\n      <td>Blood Red Sky</td>\n      <td>(2021)</td>\n      <td>Action, Horror, Thriller</td>\n      <td>6.1</td>\n      <td>A woman with a mysterious illness is forced in...</td>\n      <td>Director:Peter Thorwarth|     Stars:Peri Baume...</td>\n      <td>21,062</td>\n      <td>121.0</td>\n      <td>NaN</td>\n    </tr>\n    <tr>\n      <th>1</th>\n      <td>Masters of the Universe: Revelation</td>\n      <td>(2021– )</td>\n      <td>Animation, Action, Adventure</td>\n      <td>5.0</td>\n      <td>The war for Eternia begins again in what may b...</td>\n      <td>Stars:Chris Wood, Sarah Michelle Gellar, Lena ...</td>\n      <td>17,870</td>\n      <td>25.0</td>\n      <td>NaN</td>\n    </tr>\n  </tbody>\n</table>\n</div>"
     },
     "execution_count": 2139,
     "metadata": {},
     "output_type": "execute_result"
    }
   ],
   "source": [
    "#Check to make sure changes took place.\n",
    "df_movies.head(2)"
   ],
   "metadata": {
    "collapsed": false,
    "pycharm": {
     "name": "#%%\n"
    }
   }
  },
  {
   "cell_type": "code",
   "execution_count": 2140,
   "outputs": [],
   "source": [
    "#The column 'Stars' is over crowded as it features the main cast as well as the director. These should be separated for people looking for movies by specific directors or Actors.\n",
    "def extract_director(direc):\n",
    "    if 'Director' in direc or 'Directors' in direc:\n",
    "        director = direc.strip().split(\"|\")[0] # The Second Half is the stars\n",
    "        return director.split(\":\")[1] # Return the Director name\n",
    "    else:\n",
    "        return ''\n",
    "\n",
    "def extract_stars(stars):\n",
    "    if 'Star' not in stars or 'Stars' not in stars:\n",
    "        return ''\n",
    "    else:\n",
    "        return stars.split(\":\")[-1] # last value in this list will be the stars\n",
    "\n",
    "df_movies['Director'] = df_movies['STARS'].apply(lambda d: extract_director(d))\n",
    "df_movies['Stars'] = df_movies['STARS'].apply(lambda s: extract_stars(s))\n"
   ],
   "metadata": {
    "collapsed": false,
    "pycharm": {
     "name": "#%%\n"
    }
   }
  },
  {
   "cell_type": "code",
   "execution_count": 2141,
   "outputs": [
    {
     "data": {
      "text/plain": "                                MOVIES      YEAR  \\\n0                        Blood Red Sky    (2021)   \n1  Masters of the Universe: Revelation  (2021– )   \n\n                          GENRE  RATING  \\\n0      Action, Horror, Thriller     6.1   \n1  Animation, Action, Adventure     5.0   \n\n                                            ONE-LINE  \\\n0  A woman with a mysterious illness is forced in...   \n1  The war for Eternia begins again in what may b...   \n\n                                               STARS   VOTES  RunTime Gross  \\\n0  Director:Peter Thorwarth|     Stars:Peri Baume...  21,062    121.0   NaN   \n1  Stars:Chris Wood, Sarah Michelle Gellar, Lena ...  17,870     25.0   NaN   \n\n          Director                                              Stars  \n0  Peter Thorwarth  Peri Baumeister, Carl Anton Koch, Alexander Sc...  \n1                   Chris Wood, Sarah Michelle Gellar, Lena Headey...  ",
      "text/html": "<div>\n<style scoped>\n    .dataframe tbody tr th:only-of-type {\n        vertical-align: middle;\n    }\n\n    .dataframe tbody tr th {\n        vertical-align: top;\n    }\n\n    .dataframe thead th {\n        text-align: right;\n    }\n</style>\n<table border=\"1\" class=\"dataframe\">\n  <thead>\n    <tr style=\"text-align: right;\">\n      <th></th>\n      <th>MOVIES</th>\n      <th>YEAR</th>\n      <th>GENRE</th>\n      <th>RATING</th>\n      <th>ONE-LINE</th>\n      <th>STARS</th>\n      <th>VOTES</th>\n      <th>RunTime</th>\n      <th>Gross</th>\n      <th>Director</th>\n      <th>Stars</th>\n    </tr>\n  </thead>\n  <tbody>\n    <tr>\n      <th>0</th>\n      <td>Blood Red Sky</td>\n      <td>(2021)</td>\n      <td>Action, Horror, Thriller</td>\n      <td>6.1</td>\n      <td>A woman with a mysterious illness is forced in...</td>\n      <td>Director:Peter Thorwarth|     Stars:Peri Baume...</td>\n      <td>21,062</td>\n      <td>121.0</td>\n      <td>NaN</td>\n      <td>Peter Thorwarth</td>\n      <td>Peri Baumeister, Carl Anton Koch, Alexander Sc...</td>\n    </tr>\n    <tr>\n      <th>1</th>\n      <td>Masters of the Universe: Revelation</td>\n      <td>(2021– )</td>\n      <td>Animation, Action, Adventure</td>\n      <td>5.0</td>\n      <td>The war for Eternia begins again in what may b...</td>\n      <td>Stars:Chris Wood, Sarah Michelle Gellar, Lena ...</td>\n      <td>17,870</td>\n      <td>25.0</td>\n      <td>NaN</td>\n      <td></td>\n      <td>Chris Wood, Sarah Michelle Gellar, Lena Headey...</td>\n    </tr>\n  </tbody>\n</table>\n</div>"
     },
     "execution_count": 2141,
     "metadata": {},
     "output_type": "execute_result"
    }
   ],
   "source": [
    "#Check changes\n",
    "df_movies.head(2)"
   ],
   "metadata": {
    "collapsed": false,
    "pycharm": {
     "name": "#%%\n"
    }
   }
  },
  {
   "cell_type": "code",
   "execution_count": 2142,
   "outputs": [],
   "source": [
    "#Let's remove completely the column stars now for a neater look.\n",
    "df_movies.drop('STARS', axis=1, inplace=True)"
   ],
   "metadata": {
    "collapsed": false,
    "pycharm": {
     "name": "#%%\n"
    }
   }
  },
  {
   "cell_type": "code",
   "execution_count": 2143,
   "outputs": [
    {
     "data": {
      "text/plain": "                                MOVIES      YEAR  \\\n0                        Blood Red Sky    (2021)   \n1  Masters of the Universe: Revelation  (2021– )   \n\n                          GENRE  RATING  \\\n0      Action, Horror, Thriller     6.1   \n1  Animation, Action, Adventure     5.0   \n\n                                            ONE-LINE   VOTES  RunTime Gross  \\\n0  A woman with a mysterious illness is forced in...  21,062    121.0   NaN   \n1  The war for Eternia begins again in what may b...  17,870     25.0   NaN   \n\n          Director                                              Stars  \n0  Peter Thorwarth  Peri Baumeister, Carl Anton Koch, Alexander Sc...  \n1                   Chris Wood, Sarah Michelle Gellar, Lena Headey...  ",
      "text/html": "<div>\n<style scoped>\n    .dataframe tbody tr th:only-of-type {\n        vertical-align: middle;\n    }\n\n    .dataframe tbody tr th {\n        vertical-align: top;\n    }\n\n    .dataframe thead th {\n        text-align: right;\n    }\n</style>\n<table border=\"1\" class=\"dataframe\">\n  <thead>\n    <tr style=\"text-align: right;\">\n      <th></th>\n      <th>MOVIES</th>\n      <th>YEAR</th>\n      <th>GENRE</th>\n      <th>RATING</th>\n      <th>ONE-LINE</th>\n      <th>VOTES</th>\n      <th>RunTime</th>\n      <th>Gross</th>\n      <th>Director</th>\n      <th>Stars</th>\n    </tr>\n  </thead>\n  <tbody>\n    <tr>\n      <th>0</th>\n      <td>Blood Red Sky</td>\n      <td>(2021)</td>\n      <td>Action, Horror, Thriller</td>\n      <td>6.1</td>\n      <td>A woman with a mysterious illness is forced in...</td>\n      <td>21,062</td>\n      <td>121.0</td>\n      <td>NaN</td>\n      <td>Peter Thorwarth</td>\n      <td>Peri Baumeister, Carl Anton Koch, Alexander Sc...</td>\n    </tr>\n    <tr>\n      <th>1</th>\n      <td>Masters of the Universe: Revelation</td>\n      <td>(2021– )</td>\n      <td>Animation, Action, Adventure</td>\n      <td>5.0</td>\n      <td>The war for Eternia begins again in what may b...</td>\n      <td>17,870</td>\n      <td>25.0</td>\n      <td>NaN</td>\n      <td></td>\n      <td>Chris Wood, Sarah Michelle Gellar, Lena Headey...</td>\n    </tr>\n  </tbody>\n</table>\n</div>"
     },
     "execution_count": 2143,
     "metadata": {},
     "output_type": "execute_result"
    }
   ],
   "source": [
    "#Check Changes made to data.\n",
    "df_movies.head(2)"
   ],
   "metadata": {
    "collapsed": false,
    "pycharm": {
     "name": "#%%\n"
    }
   }
  },
  {
   "cell_type": "markdown",
   "source": [
    "#### Question Time\n",
    "1. Highest Grossing Movie?"
   ],
   "metadata": {
    "collapsed": false,
    "pycharm": {
     "name": "#%% md\n"
    }
   }
  },
  {
   "cell_type": "code",
   "execution_count": 2144,
   "outputs": [],
   "source": [
    "#Remove movies with no value in Gross\n",
    "gross_df = df_movies[~df_movies['Gross'].isna()]"
   ],
   "metadata": {
    "collapsed": false,
    "pycharm": {
     "name": "#%%\n"
    }
   }
  },
  {
   "cell_type": "code",
   "execution_count": 2145,
   "outputs": [
    {
     "name": "stderr",
     "output_type": "stream",
     "text": [
      "C:\\Users\\HP\\AppData\\Local\\Temp\\ipykernel_67804\\3165061726.py:2: SettingWithCopyWarning: \n",
      "A value is trying to be set on a copy of a slice from a DataFrame.\n",
      "Try using .loc[row_indexer,col_indexer] = value instead\n",
      "\n",
      "See the caveats in the documentation: https://pandas.pydata.org/pandas-docs/stable/user_guide/indexing.html#returning-a-view-versus-a-copy\n",
      "  gross_df['Gross'] = gross_df['Gross'].apply(lambda g: extract_gross(g))\n"
     ]
    },
    {
     "data": {
      "text/plain": "MOVIES        Beauty and the Beast\nGENRE     Family, Fantasy, Musical\nGross                       504.01\nName: 329, dtype: object"
     },
     "execution_count": 2145,
     "metadata": {},
     "output_type": "execute_result"
    }
   ],
   "source": [
    "#For this question it helped to separatley identify the highest gross as using ascending displayed the wrong Movie as highest grossing film.\n",
    "gross_df['Gross'] = gross_df['Gross'].apply(lambda g: extract_gross(g))\n",
    "gross_df.iloc[gross_df['Gross'].argmax()][['MOVIES','GENRE', 'Gross']]\n"
   ],
   "metadata": {
    "collapsed": false,
    "pycharm": {
     "name": "#%%\n"
    }
   }
  },
  {
   "cell_type": "markdown",
   "source": [
    "Beauty and the Beast is the highest grossing film within this data with $504.01M.\n",
    "2. Top Movie Genre?"
   ],
   "metadata": {
    "collapsed": false
   }
  },
  {
   "cell_type": "code",
   "execution_count": 2146,
   "outputs": [
    {
     "data": {
      "text/plain": "                                   MOVIES                         GENRE  \\\n8510           Avatar: The Last Airbender  Animation, Action, Adventure   \n7640                      BoJack Horseman      Animation, Comedy, Drama   \n9892                               Dexter         Crime, Drama, Mystery   \n8509           Avatar: The Last Airbender  Animation, Action, Adventure   \n8637   She-Ra and the Princesses of Power  Animation, Action, Adventure   \n7159           Avatar: The Last Airbender  Animation, Action, Adventure   \n8629   She-Ra and the Princesses of Power  Animation, Action, Adventure   \n8767                                 Dark         Crime, Drama, Mystery   \n8541                  The Midnight Gospel  Animation, Adventure, Comedy   \n8766                                 Dark         Crime, Drama, Mystery   \n\n      RATING  \n8510     9.9  \n7640     9.9  \n9892     9.8  \n8509     9.8  \n8637     9.7  \n7159     9.7  \n8629     9.7  \n8767     9.7  \n8541     9.7  \n8766     9.6  ",
      "text/html": "<div>\n<style scoped>\n    .dataframe tbody tr th:only-of-type {\n        vertical-align: middle;\n    }\n\n    .dataframe tbody tr th {\n        vertical-align: top;\n    }\n\n    .dataframe thead th {\n        text-align: right;\n    }\n</style>\n<table border=\"1\" class=\"dataframe\">\n  <thead>\n    <tr style=\"text-align: right;\">\n      <th></th>\n      <th>MOVIES</th>\n      <th>GENRE</th>\n      <th>RATING</th>\n    </tr>\n  </thead>\n  <tbody>\n    <tr>\n      <th>8510</th>\n      <td>Avatar: The Last Airbender</td>\n      <td>Animation, Action, Adventure</td>\n      <td>9.9</td>\n    </tr>\n    <tr>\n      <th>7640</th>\n      <td>BoJack Horseman</td>\n      <td>Animation, Comedy, Drama</td>\n      <td>9.9</td>\n    </tr>\n    <tr>\n      <th>9892</th>\n      <td>Dexter</td>\n      <td>Crime, Drama, Mystery</td>\n      <td>9.8</td>\n    </tr>\n    <tr>\n      <th>8509</th>\n      <td>Avatar: The Last Airbender</td>\n      <td>Animation, Action, Adventure</td>\n      <td>9.8</td>\n    </tr>\n    <tr>\n      <th>8637</th>\n      <td>She-Ra and the Princesses of Power</td>\n      <td>Animation, Action, Adventure</td>\n      <td>9.7</td>\n    </tr>\n    <tr>\n      <th>7159</th>\n      <td>Avatar: The Last Airbender</td>\n      <td>Animation, Action, Adventure</td>\n      <td>9.7</td>\n    </tr>\n    <tr>\n      <th>8629</th>\n      <td>She-Ra and the Princesses of Power</td>\n      <td>Animation, Action, Adventure</td>\n      <td>9.7</td>\n    </tr>\n    <tr>\n      <th>8767</th>\n      <td>Dark</td>\n      <td>Crime, Drama, Mystery</td>\n      <td>9.7</td>\n    </tr>\n    <tr>\n      <th>8541</th>\n      <td>The Midnight Gospel</td>\n      <td>Animation, Adventure, Comedy</td>\n      <td>9.7</td>\n    </tr>\n    <tr>\n      <th>8766</th>\n      <td>Dark</td>\n      <td>Crime, Drama, Mystery</td>\n      <td>9.6</td>\n    </tr>\n  </tbody>\n</table>\n</div>"
     },
     "execution_count": 2146,
     "metadata": {},
     "output_type": "execute_result"
    }
   ],
   "source": [
    "df_movies[['MOVIES', 'GENRE', 'RATING']].sort_values('RATING', ascending=False).head(10)\n"
   ],
   "metadata": {
    "collapsed": false,
    "pycharm": {
     "name": "#%%\n"
    }
   }
  },
  {
   "cell_type": "markdown",
   "source": [
    "Avatar: The Last Airbender has the highest rating with 9.9\n",
    "3. Top Movie Genre?"
   ],
   "metadata": {
    "collapsed": false
   }
  },
  {
   "cell_type": "code",
   "execution_count": 2147,
   "outputs": [],
   "source": [
    "#For this we will need to compare how many movies are featured of each genre.\n",
    "movie_genre = df_movies['GENRE'].value_counts().reset_index().rename(columns={'GENRE':'Count','index':'Genre'})"
   ],
   "metadata": {
    "collapsed": false,
    "pycharm": {
     "name": "#%%\n"
    }
   }
  },
  {
   "cell_type": "code",
   "execution_count": 2148,
   "outputs": [
    {
     "data": {
      "text/plain": "                            Genre  Count\n0                          Comedy    852\n1    Animation, Action, Adventure    693\n2                           Drama    562\n3                     Documentary    498\n4           Crime, Drama, Mystery    336\n..                            ...    ...\n505      Fantasy, Horror, Romance      1\n506        Family, Music, Romance      1\n507                Fantasy, Music      1\n508        Comedy, Family, Sci-Fi      1\n509        Action, Drama, Western      1\n\n[510 rows x 2 columns]",
      "text/html": "<div>\n<style scoped>\n    .dataframe tbody tr th:only-of-type {\n        vertical-align: middle;\n    }\n\n    .dataframe tbody tr th {\n        vertical-align: top;\n    }\n\n    .dataframe thead th {\n        text-align: right;\n    }\n</style>\n<table border=\"1\" class=\"dataframe\">\n  <thead>\n    <tr style=\"text-align: right;\">\n      <th></th>\n      <th>Genre</th>\n      <th>Count</th>\n    </tr>\n  </thead>\n  <tbody>\n    <tr>\n      <th>0</th>\n      <td>Comedy</td>\n      <td>852</td>\n    </tr>\n    <tr>\n      <th>1</th>\n      <td>Animation, Action, Adventure</td>\n      <td>693</td>\n    </tr>\n    <tr>\n      <th>2</th>\n      <td>Drama</td>\n      <td>562</td>\n    </tr>\n    <tr>\n      <th>3</th>\n      <td>Documentary</td>\n      <td>498</td>\n    </tr>\n    <tr>\n      <th>4</th>\n      <td>Crime, Drama, Mystery</td>\n      <td>336</td>\n    </tr>\n    <tr>\n      <th>...</th>\n      <td>...</td>\n      <td>...</td>\n    </tr>\n    <tr>\n      <th>505</th>\n      <td>Fantasy, Horror, Romance</td>\n      <td>1</td>\n    </tr>\n    <tr>\n      <th>506</th>\n      <td>Family, Music, Romance</td>\n      <td>1</td>\n    </tr>\n    <tr>\n      <th>507</th>\n      <td>Fantasy, Music</td>\n      <td>1</td>\n    </tr>\n    <tr>\n      <th>508</th>\n      <td>Comedy, Family, Sci-Fi</td>\n      <td>1</td>\n    </tr>\n    <tr>\n      <th>509</th>\n      <td>Action, Drama, Western</td>\n      <td>1</td>\n    </tr>\n  </tbody>\n</table>\n<p>510 rows × 2 columns</p>\n</div>"
     },
     "execution_count": 2148,
     "metadata": {},
     "output_type": "execute_result"
    }
   ],
   "source": [
    "movie_genre\n"
   ],
   "metadata": {
    "collapsed": false,
    "pycharm": {
     "name": "#%%\n"
    }
   }
  },
  {
   "cell_type": "markdown",
   "source": [
    "Out of all genre possibility (single genre and mixed) Comedy has the most featured movies."
   ],
   "metadata": {
    "collapsed": false
   }
  },
  {
   "cell_type": "markdown",
   "source": [
    "## Dataset 3 Pizza Price Data\n",
    "Link: https://www.kaggle.com/code/knightbearr/analysis-pizza-price-data-knightbearr\n",
    "1. Average Pricing of Pizza\n",
    "2. Most Expensive Pizza\n",
    "3. Which brand offers more choices"
   ],
   "metadata": {
    "collapsed": false
   }
  },
  {
   "cell_type": "code",
   "execution_count": 2149,
   "outputs": [
    {
     "data": {
      "text/plain": "            Company           Pizza Name              Type           Size  \\\n0    Domino's Pizza          Hand Tossed     Cheeses Pizza    Small (10\")   \n1    Domino's Pizza          Hand Tossed     Cheeses Pizza   Medium (12\")   \n2    Domino's Pizza          Hand Tossed     Cheeses Pizza    Large (14\")   \n3    Domino's Pizza         Handmade Pan     Cheeses Pizza   Medium (12\")   \n4    Domino's Pizza   Crunchy Thin Crust     Cheeses Pizza    Small (10\")   \n..              ...                  ...               ...            ...   \n366     IMO's Pizza    BBQ Chicken Pizza  Specialty Pizzas  X Large (16\")   \n367     IMO's Pizza  Egg-Ceptional Pizza  Specialty Pizzas    Small (10\")   \n368     IMO's Pizza  Egg-Ceptional Pizza  Specialty Pizzas   Medium (12\")   \n369     IMO's Pizza  Egg-Ceptional Pizza  Specialty Pizzas    Large (14\")   \n370     IMO's Pizza  Egg-Ceptional Pizza  Specialty Pizzas  X Large (16\")   \n\n      Price  \n0     $5.99  \n1     $7.99  \n2     $9.99  \n3     $7.99  \n4     $5.99  \n..      ...  \n366  $23.85  \n367  $11.80  \n368  $14.95  \n369  $18.65  \n370  $22.30  \n\n[371 rows x 5 columns]",
      "text/html": "<div>\n<style scoped>\n    .dataframe tbody tr th:only-of-type {\n        vertical-align: middle;\n    }\n\n    .dataframe tbody tr th {\n        vertical-align: top;\n    }\n\n    .dataframe thead th {\n        text-align: right;\n    }\n</style>\n<table border=\"1\" class=\"dataframe\">\n  <thead>\n    <tr style=\"text-align: right;\">\n      <th></th>\n      <th>Company</th>\n      <th>Pizza Name</th>\n      <th>Type</th>\n      <th>Size</th>\n      <th>Price</th>\n    </tr>\n  </thead>\n  <tbody>\n    <tr>\n      <th>0</th>\n      <td>Domino's Pizza</td>\n      <td>Hand Tossed</td>\n      <td>Cheeses Pizza</td>\n      <td>Small (10\")</td>\n      <td>$5.99</td>\n    </tr>\n    <tr>\n      <th>1</th>\n      <td>Domino's Pizza</td>\n      <td>Hand Tossed</td>\n      <td>Cheeses Pizza</td>\n      <td>Medium (12\")</td>\n      <td>$7.99</td>\n    </tr>\n    <tr>\n      <th>2</th>\n      <td>Domino's Pizza</td>\n      <td>Hand Tossed</td>\n      <td>Cheeses Pizza</td>\n      <td>Large (14\")</td>\n      <td>$9.99</td>\n    </tr>\n    <tr>\n      <th>3</th>\n      <td>Domino's Pizza</td>\n      <td>Handmade Pan</td>\n      <td>Cheeses Pizza</td>\n      <td>Medium (12\")</td>\n      <td>$7.99</td>\n    </tr>\n    <tr>\n      <th>4</th>\n      <td>Domino's Pizza</td>\n      <td>Crunchy Thin Crust</td>\n      <td>Cheeses Pizza</td>\n      <td>Small (10\")</td>\n      <td>$5.99</td>\n    </tr>\n    <tr>\n      <th>...</th>\n      <td>...</td>\n      <td>...</td>\n      <td>...</td>\n      <td>...</td>\n      <td>...</td>\n    </tr>\n    <tr>\n      <th>366</th>\n      <td>IMO's Pizza</td>\n      <td>BBQ Chicken Pizza</td>\n      <td>Specialty Pizzas</td>\n      <td>X Large (16\")</td>\n      <td>$23.85</td>\n    </tr>\n    <tr>\n      <th>367</th>\n      <td>IMO's Pizza</td>\n      <td>Egg-Ceptional Pizza</td>\n      <td>Specialty Pizzas</td>\n      <td>Small (10\")</td>\n      <td>$11.80</td>\n    </tr>\n    <tr>\n      <th>368</th>\n      <td>IMO's Pizza</td>\n      <td>Egg-Ceptional Pizza</td>\n      <td>Specialty Pizzas</td>\n      <td>Medium (12\")</td>\n      <td>$14.95</td>\n    </tr>\n    <tr>\n      <th>369</th>\n      <td>IMO's Pizza</td>\n      <td>Egg-Ceptional Pizza</td>\n      <td>Specialty Pizzas</td>\n      <td>Large (14\")</td>\n      <td>$18.65</td>\n    </tr>\n    <tr>\n      <th>370</th>\n      <td>IMO's Pizza</td>\n      <td>Egg-Ceptional Pizza</td>\n      <td>Specialty Pizzas</td>\n      <td>X Large (16\")</td>\n      <td>$22.30</td>\n    </tr>\n  </tbody>\n</table>\n<p>371 rows × 5 columns</p>\n</div>"
     },
     "execution_count": 2149,
     "metadata": {},
     "output_type": "execute_result"
    }
   ],
   "source": [
    "#import dateframe\n",
    "df_pizza= pd.read_csv(r'C:\\Users\\HP\\OneDrive\\Desktop\\pizza_data.csv')\n",
    "df_pizza"
   ],
   "metadata": {
    "collapsed": false,
    "pycharm": {
     "name": "#%%\n"
    }
   }
  },
  {
   "cell_type": "code",
   "execution_count": 2150,
   "outputs": [
    {
     "name": "stdout",
     "output_type": "stream",
     "text": [
      "<class 'pandas.core.frame.DataFrame'>\n",
      "RangeIndex: 371 entries, 0 to 370\n",
      "Data columns (total 5 columns):\n",
      " #   Column      Non-Null Count  Dtype \n",
      "---  ------      --------------  ----- \n",
      " 0   Company     371 non-null    object\n",
      " 1   Pizza Name  371 non-null    object\n",
      " 2   Type        371 non-null    object\n",
      " 3   Size        371 non-null    object\n",
      " 4   Price       371 non-null    object\n",
      "dtypes: object(5)\n",
      "memory usage: 14.6+ KB\n"
     ]
    }
   ],
   "source": [
    "# Check the data!\n",
    "df_pizza.info()\n"
   ],
   "metadata": {
    "collapsed": false,
    "pycharm": {
     "name": "#%%\n"
    }
   }
  },
  {
   "cell_type": "code",
   "execution_count": 2151,
   "outputs": [
    {
     "data": {
      "text/plain": "Company       0\nPizza Name    0\nType          0\nSize          0\nPrice         0\ndtype: int64"
     },
     "execution_count": 2151,
     "metadata": {},
     "output_type": "execute_result"
    }
   ],
   "source": [
    "# Keep checking\n",
    "df_pizza.isnull().sum()"
   ],
   "metadata": {
    "collapsed": false,
    "pycharm": {
     "name": "#%%\n"
    }
   }
  },
  {
   "cell_type": "code",
   "execution_count": 2152,
   "outputs": [],
   "source": [
    "#All values are present.\n"
   ],
   "metadata": {
    "collapsed": false,
    "pycharm": {
     "name": "#%%\n"
    }
   }
  },
  {
   "cell_type": "markdown",
   "source": [
    "#### Let's Clean the Data :)"
   ],
   "metadata": {
    "collapsed": false
   }
  },
  {
   "cell_type": "code",
   "execution_count": 2153,
   "outputs": [
    {
     "data": {
      "text/plain": "          Company   Pizza Name           Type          Size  Price\n0  Domino's Pizza  Hand Tossed  Cheeses Pizza   Small (10\")  $5.99\n1  Domino's Pizza  Hand Tossed  Cheeses Pizza  Medium (12\")  $7.99",
      "text/html": "<div>\n<style scoped>\n    .dataframe tbody tr th:only-of-type {\n        vertical-align: middle;\n    }\n\n    .dataframe tbody tr th {\n        vertical-align: top;\n    }\n\n    .dataframe thead th {\n        text-align: right;\n    }\n</style>\n<table border=\"1\" class=\"dataframe\">\n  <thead>\n    <tr style=\"text-align: right;\">\n      <th></th>\n      <th>Company</th>\n      <th>Pizza Name</th>\n      <th>Type</th>\n      <th>Size</th>\n      <th>Price</th>\n    </tr>\n  </thead>\n  <tbody>\n    <tr>\n      <th>0</th>\n      <td>Domino's Pizza</td>\n      <td>Hand Tossed</td>\n      <td>Cheeses Pizza</td>\n      <td>Small (10\")</td>\n      <td>$5.99</td>\n    </tr>\n    <tr>\n      <th>1</th>\n      <td>Domino's Pizza</td>\n      <td>Hand Tossed</td>\n      <td>Cheeses Pizza</td>\n      <td>Medium (12\")</td>\n      <td>$7.99</td>\n    </tr>\n  </tbody>\n</table>\n</div>"
     },
     "execution_count": 2153,
     "metadata": {},
     "output_type": "execute_result"
    }
   ],
   "source": [
    "#analyze the data\n",
    "df_pizza.head(2)"
   ],
   "metadata": {
    "collapsed": false,
    "pycharm": {
     "name": "#%%\n"
    }
   }
  },
  {
   "cell_type": "markdown",
   "source": [
    "Viewing the format of this data, it does not appear untidy. However,we can remove the '$' symbol as well as the inch of the pizzas under 'size'."
   ],
   "metadata": {
    "collapsed": false
   }
  },
  {
   "cell_type": "code",
   "execution_count": 2154,
   "outputs": [
    {
     "name": "stderr",
     "output_type": "stream",
     "text": [
      "C:\\Users\\HP\\AppData\\Local\\Temp\\ipykernel_67804\\2094793800.py:1: FutureWarning: The default value of regex will change from True to False in a future version. In addition, single character regular expressions will *not* be treated as literal strings when regex=True.\n",
      "  df_pizza[\"Price\"] = df_pizza[\"Price\"].str.replace(\"$\", \"\").astype(\"float64\")\n"
     ]
    }
   ],
   "source": [
    "df_pizza[\"Price\"] = df_pizza[\"Price\"].str.replace(\"$\", \"\").astype(\"float64\")\n"
   ],
   "metadata": {
    "collapsed": false,
    "pycharm": {
     "name": "#%%\n"
    }
   }
  },
  {
   "cell_type": "code",
   "execution_count": 2155,
   "outputs": [],
   "source": [
    "#string needs to be created to remove pizza diameter\n",
    "def get_size(size):\n",
    "        return size.split(\" \")[0]\n",
    "df_pizza[\"Size\"] = df_pizza[\"Size\"].apply(lambda x: get_size(x))"
   ],
   "metadata": {
    "collapsed": false,
    "pycharm": {
     "name": "#%%\n"
    }
   }
  },
  {
   "cell_type": "code",
   "execution_count": 2156,
   "outputs": [
    {
     "data": {
      "text/plain": "          Company   Pizza Name           Type    Size  Price\n0  Domino's Pizza  Hand Tossed  Cheeses Pizza   Small   5.99\n1  Domino's Pizza  Hand Tossed  Cheeses Pizza  Medium   7.99",
      "text/html": "<div>\n<style scoped>\n    .dataframe tbody tr th:only-of-type {\n        vertical-align: middle;\n    }\n\n    .dataframe tbody tr th {\n        vertical-align: top;\n    }\n\n    .dataframe thead th {\n        text-align: right;\n    }\n</style>\n<table border=\"1\" class=\"dataframe\">\n  <thead>\n    <tr style=\"text-align: right;\">\n      <th></th>\n      <th>Company</th>\n      <th>Pizza Name</th>\n      <th>Type</th>\n      <th>Size</th>\n      <th>Price</th>\n    </tr>\n  </thead>\n  <tbody>\n    <tr>\n      <th>0</th>\n      <td>Domino's Pizza</td>\n      <td>Hand Tossed</td>\n      <td>Cheeses Pizza</td>\n      <td>Small</td>\n      <td>5.99</td>\n    </tr>\n    <tr>\n      <th>1</th>\n      <td>Domino's Pizza</td>\n      <td>Hand Tossed</td>\n      <td>Cheeses Pizza</td>\n      <td>Medium</td>\n      <td>7.99</td>\n    </tr>\n  </tbody>\n</table>\n</div>"
     },
     "execution_count": 2156,
     "metadata": {},
     "output_type": "execute_result"
    }
   ],
   "source": [
    "df_pizza.head(2)\n"
   ],
   "metadata": {
    "collapsed": false,
    "pycharm": {
     "name": "#%%\n"
    }
   }
  },
  {
   "cell_type": "code",
   "execution_count": 2157,
   "outputs": [
    {
     "data": {
      "text/plain": "            Price\ncount  371.000000\nmean    16.319326\nstd      5.714662\nmin      4.290000\n25%     12.490000\n50%     15.490000\n75%     19.950000\nmax     29.990000",
      "text/html": "<div>\n<style scoped>\n    .dataframe tbody tr th:only-of-type {\n        vertical-align: middle;\n    }\n\n    .dataframe tbody tr th {\n        vertical-align: top;\n    }\n\n    .dataframe thead th {\n        text-align: right;\n    }\n</style>\n<table border=\"1\" class=\"dataframe\">\n  <thead>\n    <tr style=\"text-align: right;\">\n      <th></th>\n      <th>Price</th>\n    </tr>\n  </thead>\n  <tbody>\n    <tr>\n      <th>count</th>\n      <td>371.000000</td>\n    </tr>\n    <tr>\n      <th>mean</th>\n      <td>16.319326</td>\n    </tr>\n    <tr>\n      <th>std</th>\n      <td>5.714662</td>\n    </tr>\n    <tr>\n      <th>min</th>\n      <td>4.290000</td>\n    </tr>\n    <tr>\n      <th>25%</th>\n      <td>12.490000</td>\n    </tr>\n    <tr>\n      <th>50%</th>\n      <td>15.490000</td>\n    </tr>\n    <tr>\n      <th>75%</th>\n      <td>19.950000</td>\n    </tr>\n    <tr>\n      <th>max</th>\n      <td>29.990000</td>\n    </tr>\n  </tbody>\n</table>\n</div>"
     },
     "execution_count": 2157,
     "metadata": {},
     "output_type": "execute_result"
    }
   ],
   "source": [
    "#Great, let's describe the data.\n",
    "df_pizza.describe()\n"
   ],
   "metadata": {
    "collapsed": false,
    "pycharm": {
     "name": "#%%\n"
    }
   }
  },
  {
   "cell_type": "markdown",
   "source": [
    "Let's answer the questions.\n",
    "1. Average Pizza Pricing?"
   ],
   "metadata": {
    "collapsed": false
   }
  },
  {
   "cell_type": "code",
   "execution_count": 2158,
   "outputs": [],
   "source": [
    "#Instead of finding the average of all 4 brands together we will use groupby, to separate the brands.\n",
    "avg_pricing =df_pizza.groupby(\"Company\")[\"Price\"].agg([\"max\",\"min\",\"mean\"])"
   ],
   "metadata": {
    "collapsed": false,
    "pycharm": {
     "name": "#%%\n"
    }
   }
  },
  {
   "cell_type": "code",
   "execution_count": 2159,
   "outputs": [
    {
     "data": {
      "text/plain": "                     max   min       mean\nCompany                                  \nDomino's Pizza     17.99  5.99  14.291136\nGodfather's Pizza  29.99  4.99  20.271128\nIMO's Pizza        23.85  9.30  17.102083\nPizza Hut          18.49  4.29  13.415397",
      "text/html": "<div>\n<style scoped>\n    .dataframe tbody tr th:only-of-type {\n        vertical-align: middle;\n    }\n\n    .dataframe tbody tr th {\n        vertical-align: top;\n    }\n\n    .dataframe thead th {\n        text-align: right;\n    }\n</style>\n<table border=\"1\" class=\"dataframe\">\n  <thead>\n    <tr style=\"text-align: right;\">\n      <th></th>\n      <th>max</th>\n      <th>min</th>\n      <th>mean</th>\n    </tr>\n    <tr>\n      <th>Company</th>\n      <th></th>\n      <th></th>\n      <th></th>\n    </tr>\n  </thead>\n  <tbody>\n    <tr>\n      <th>Domino's Pizza</th>\n      <td>17.99</td>\n      <td>5.99</td>\n      <td>14.291136</td>\n    </tr>\n    <tr>\n      <th>Godfather's Pizza</th>\n      <td>29.99</td>\n      <td>4.99</td>\n      <td>20.271128</td>\n    </tr>\n    <tr>\n      <th>IMO's Pizza</th>\n      <td>23.85</td>\n      <td>9.30</td>\n      <td>17.102083</td>\n    </tr>\n    <tr>\n      <th>Pizza Hut</th>\n      <td>18.49</td>\n      <td>4.29</td>\n      <td>13.415397</td>\n    </tr>\n  </tbody>\n</table>\n</div>"
     },
     "execution_count": 2159,
     "metadata": {},
     "output_type": "execute_result"
    }
   ],
   "source": [
    "avg_pricing"
   ],
   "metadata": {
    "collapsed": false,
    "pycharm": {
     "name": "#%%\n"
    }
   }
  },
  {
   "cell_type": "markdown",
   "source": [
    "2. Most Expensive Pizza?"
   ],
   "metadata": {
    "collapsed": false
   }
  },
  {
   "cell_type": "code",
   "execution_count": 2160,
   "outputs": [
    {
     "data": {
      "text/plain": "           Company                                  Pizza Name  \\\n43  Domino's Pizza            Fiery Hawaiian™ (Brooklyn Style)   \n33  Domino's Pizza             Pacific Veggie (Brooklyn Style)   \n59  Domino's Pizza  America's Favorite Feast® (Brooklyn Style)   \n65  Domino's Pizza  Bacon Cheeseburger Feast® (Brooklyn Style)   \n18  Domino's Pizza         Wisconsin 6 Cheese (Brooklyn Style)   \n..             ...                                         ...   \n5   Domino's Pizza                          Crunchy Thin Crust   \n1   Domino's Pizza                                 Hand Tossed   \n3   Domino's Pizza                                Handmade Pan   \n4   Domino's Pizza                          Crunchy Thin Crust   \n0   Domino's Pizza                                 Hand Tossed   \n\n                Type     Size  Price  \n43  Specialty Pizzas  X-Large  17.99  \n33  Specialty Pizzas  X-Large  17.99  \n59      Feast Pizzas  X-Large  17.99  \n65      Feast Pizzas  X-Large  17.99  \n18  Specialty Pizzas  X-Large  17.99  \n..               ...      ...    ...  \n5      Cheeses Pizza   Medium   7.99  \n1      Cheeses Pizza   Medium   7.99  \n3      Cheeses Pizza   Medium   7.99  \n4      Cheeses Pizza    Small   5.99  \n0      Cheeses Pizza    Small   5.99  \n\n[88 rows x 5 columns]",
      "text/html": "<div>\n<style scoped>\n    .dataframe tbody tr th:only-of-type {\n        vertical-align: middle;\n    }\n\n    .dataframe tbody tr th {\n        vertical-align: top;\n    }\n\n    .dataframe thead th {\n        text-align: right;\n    }\n</style>\n<table border=\"1\" class=\"dataframe\">\n  <thead>\n    <tr style=\"text-align: right;\">\n      <th></th>\n      <th>Company</th>\n      <th>Pizza Name</th>\n      <th>Type</th>\n      <th>Size</th>\n      <th>Price</th>\n    </tr>\n  </thead>\n  <tbody>\n    <tr>\n      <th>43</th>\n      <td>Domino's Pizza</td>\n      <td>Fiery Hawaiian™ (Brooklyn Style)</td>\n      <td>Specialty Pizzas</td>\n      <td>X-Large</td>\n      <td>17.99</td>\n    </tr>\n    <tr>\n      <th>33</th>\n      <td>Domino's Pizza</td>\n      <td>Pacific Veggie (Brooklyn Style)</td>\n      <td>Specialty Pizzas</td>\n      <td>X-Large</td>\n      <td>17.99</td>\n    </tr>\n    <tr>\n      <th>59</th>\n      <td>Domino's Pizza</td>\n      <td>America's Favorite Feast® (Brooklyn Style)</td>\n      <td>Feast Pizzas</td>\n      <td>X-Large</td>\n      <td>17.99</td>\n    </tr>\n    <tr>\n      <th>65</th>\n      <td>Domino's Pizza</td>\n      <td>Bacon Cheeseburger Feast® (Brooklyn Style)</td>\n      <td>Feast Pizzas</td>\n      <td>X-Large</td>\n      <td>17.99</td>\n    </tr>\n    <tr>\n      <th>18</th>\n      <td>Domino's Pizza</td>\n      <td>Wisconsin 6 Cheese (Brooklyn Style)</td>\n      <td>Specialty Pizzas</td>\n      <td>X-Large</td>\n      <td>17.99</td>\n    </tr>\n    <tr>\n      <th>...</th>\n      <td>...</td>\n      <td>...</td>\n      <td>...</td>\n      <td>...</td>\n      <td>...</td>\n    </tr>\n    <tr>\n      <th>5</th>\n      <td>Domino's Pizza</td>\n      <td>Crunchy Thin Crust</td>\n      <td>Cheeses Pizza</td>\n      <td>Medium</td>\n      <td>7.99</td>\n    </tr>\n    <tr>\n      <th>1</th>\n      <td>Domino's Pizza</td>\n      <td>Hand Tossed</td>\n      <td>Cheeses Pizza</td>\n      <td>Medium</td>\n      <td>7.99</td>\n    </tr>\n    <tr>\n      <th>3</th>\n      <td>Domino's Pizza</td>\n      <td>Handmade Pan</td>\n      <td>Cheeses Pizza</td>\n      <td>Medium</td>\n      <td>7.99</td>\n    </tr>\n    <tr>\n      <th>4</th>\n      <td>Domino's Pizza</td>\n      <td>Crunchy Thin Crust</td>\n      <td>Cheeses Pizza</td>\n      <td>Small</td>\n      <td>5.99</td>\n    </tr>\n    <tr>\n      <th>0</th>\n      <td>Domino's Pizza</td>\n      <td>Hand Tossed</td>\n      <td>Cheeses Pizza</td>\n      <td>Small</td>\n      <td>5.99</td>\n    </tr>\n  </tbody>\n</table>\n<p>88 rows × 5 columns</p>\n</div>"
     },
     "execution_count": 2160,
     "metadata": {},
     "output_type": "execute_result"
    }
   ],
   "source": [
    "#We wll separate the companies to show the highest to lowest price.\n",
    "#First Dominoes\n",
    "Dom_df=df_pizza[(df_pizza[\"Company\"]==\"Domino's Pizza\")]\n",
    "Dom_df.sort_values(by=\"Price\",ascending=False)\n"
   ],
   "metadata": {
    "collapsed": false,
    "pycharm": {
     "name": "#%%\n"
    }
   }
  },
  {
   "cell_type": "code",
   "execution_count": 2161,
   "outputs": [
    {
     "data": {
      "text/plain": "       Company                                 Pizza Name  \\\n158  Pizza Hut      Chicken Supreme Pizza (Stuffed Crust)   \n185  Pizza Hut        Super Supreme Pizza (Stuffed Crust)   \n149  Pizza Hut               BBQ Lover's™ (Stuffed Crust)   \n113  Pizza Hut        Meat Lover's® Pizza (Stuffed Crust)   \n131  Pizza Hut      Veggie Lover's® Pizza (Stuffed Crust)   \n..         ...                                        ...   \n126  Pizza Hut          Veggie Lover's® Pizza (Pan Pizza)   \n117  Pizza Hut  Ultimate Cheese Lover's Pizza (Pan Pizza)   \n108  Pizza Hut            Meat Lover's® Pizza (Pan Pizza)   \n99   Pizza Hut       Pepperoni Lover's® Pizza (Pan Pizza)   \n90   Pizza Hut                                  Pan Pizza   \n\n                      Type      Size  Price  \n158  Classic Recipe Pizzas     Large  18.49  \n185  Classic Recipe Pizzas     Large  18.49  \n149  Classic Recipe Pizzas     Large  17.49  \n113  Classic Recipe Pizzas     Large  17.49  \n131  Classic Recipe Pizzas     Large  17.49  \n..                     ...       ...    ...  \n126  Classic Recipe Pizzas  Personal   4.79  \n117  Classic Recipe Pizzas  Personal   4.79  \n108  Classic Recipe Pizzas  Personal   4.79  \n99   Classic Recipe Pizzas  Personal   4.79  \n90            Cheese Pizza  Personal   4.29  \n\n[126 rows x 5 columns]",
      "text/html": "<div>\n<style scoped>\n    .dataframe tbody tr th:only-of-type {\n        vertical-align: middle;\n    }\n\n    .dataframe tbody tr th {\n        vertical-align: top;\n    }\n\n    .dataframe thead th {\n        text-align: right;\n    }\n</style>\n<table border=\"1\" class=\"dataframe\">\n  <thead>\n    <tr style=\"text-align: right;\">\n      <th></th>\n      <th>Company</th>\n      <th>Pizza Name</th>\n      <th>Type</th>\n      <th>Size</th>\n      <th>Price</th>\n    </tr>\n  </thead>\n  <tbody>\n    <tr>\n      <th>158</th>\n      <td>Pizza Hut</td>\n      <td>Chicken Supreme Pizza (Stuffed Crust)</td>\n      <td>Classic Recipe Pizzas</td>\n      <td>Large</td>\n      <td>18.49</td>\n    </tr>\n    <tr>\n      <th>185</th>\n      <td>Pizza Hut</td>\n      <td>Super Supreme Pizza (Stuffed Crust)</td>\n      <td>Classic Recipe Pizzas</td>\n      <td>Large</td>\n      <td>18.49</td>\n    </tr>\n    <tr>\n      <th>149</th>\n      <td>Pizza Hut</td>\n      <td>BBQ Lover's™ (Stuffed Crust)</td>\n      <td>Classic Recipe Pizzas</td>\n      <td>Large</td>\n      <td>17.49</td>\n    </tr>\n    <tr>\n      <th>113</th>\n      <td>Pizza Hut</td>\n      <td>Meat Lover's® Pizza (Stuffed Crust)</td>\n      <td>Classic Recipe Pizzas</td>\n      <td>Large</td>\n      <td>17.49</td>\n    </tr>\n    <tr>\n      <th>131</th>\n      <td>Pizza Hut</td>\n      <td>Veggie Lover's® Pizza (Stuffed Crust)</td>\n      <td>Classic Recipe Pizzas</td>\n      <td>Large</td>\n      <td>17.49</td>\n    </tr>\n    <tr>\n      <th>...</th>\n      <td>...</td>\n      <td>...</td>\n      <td>...</td>\n      <td>...</td>\n      <td>...</td>\n    </tr>\n    <tr>\n      <th>126</th>\n      <td>Pizza Hut</td>\n      <td>Veggie Lover's® Pizza (Pan Pizza)</td>\n      <td>Classic Recipe Pizzas</td>\n      <td>Personal</td>\n      <td>4.79</td>\n    </tr>\n    <tr>\n      <th>117</th>\n      <td>Pizza Hut</td>\n      <td>Ultimate Cheese Lover's Pizza (Pan Pizza)</td>\n      <td>Classic Recipe Pizzas</td>\n      <td>Personal</td>\n      <td>4.79</td>\n    </tr>\n    <tr>\n      <th>108</th>\n      <td>Pizza Hut</td>\n      <td>Meat Lover's® Pizza (Pan Pizza)</td>\n      <td>Classic Recipe Pizzas</td>\n      <td>Personal</td>\n      <td>4.79</td>\n    </tr>\n    <tr>\n      <th>99</th>\n      <td>Pizza Hut</td>\n      <td>Pepperoni Lover's® Pizza (Pan Pizza)</td>\n      <td>Classic Recipe Pizzas</td>\n      <td>Personal</td>\n      <td>4.79</td>\n    </tr>\n    <tr>\n      <th>90</th>\n      <td>Pizza Hut</td>\n      <td>Pan Pizza</td>\n      <td>Cheese Pizza</td>\n      <td>Personal</td>\n      <td>4.29</td>\n    </tr>\n  </tbody>\n</table>\n<p>126 rows × 5 columns</p>\n</div>"
     },
     "execution_count": 2161,
     "metadata": {},
     "output_type": "execute_result"
    }
   ],
   "source": [
    "#Pizza Hut next.\n",
    "PHut_df=df_pizza[(df_pizza[\"Company\"]==\"Pizza Hut\")]\n",
    "PHut_df.sort_values(by=\"Price\",ascending=False)\n"
   ],
   "metadata": {
    "collapsed": false,
    "pycharm": {
     "name": "#%%\n"
    }
   }
  },
  {
   "cell_type": "code",
   "execution_count": 2162,
   "outputs": [
    {
     "data": {
      "text/plain": "               Company                                     Pizza Name  \\\n295  Godfather's Pizza     Super Combo Pizza (Original or Thin Crust)   \n313  Godfather's Pizza               The Don (Original or Thin Crust)   \n307  Godfather's Pizza      Super Taco Pizza (Original or Thin Crust)   \n301  Godfather's Pizza  Super Hawaiian Pizza (Original or Thin Crust)   \n319  Godfather's Pizza    Super Veggie Pizza (Original or Thin Crust)   \n..                 ...                                            ...   \n269  Godfather's Pizza                Hawaiian Pizza (Original Crust)   \n276  Godfather's Pizza                     BLT Pizza (Original Crust)   \n283  Godfather's Pizza         Buffalo Chicken Pizza (Original Crust)   \n340  Godfather's Pizza                                 Original Crust   \n214  Godfather's Pizza                        Cheese (Original Crust)   \n\n                  Type   Size  Price  \n295   Specialty Pizzas  Jumbo  29.99  \n313   Specialty Pizzas  Jumbo  29.99  \n307   Specialty Pizzas  Jumbo  29.99  \n301   Specialty Pizzas  Jumbo  29.99  \n319   Specialty Pizzas  Jumbo  28.99  \n..                 ...    ...    ...  \n269   Specialty Pizzas   Mini   5.99  \n276   Specialty Pizzas   Mini   5.99  \n283   Specialty Pizzas   Mini   5.99  \n340  Express Favorites   Mini   4.99  \n214       Cheese Pizza   Mini   4.99  \n\n[133 rows x 5 columns]",
      "text/html": "<div>\n<style scoped>\n    .dataframe tbody tr th:only-of-type {\n        vertical-align: middle;\n    }\n\n    .dataframe tbody tr th {\n        vertical-align: top;\n    }\n\n    .dataframe thead th {\n        text-align: right;\n    }\n</style>\n<table border=\"1\" class=\"dataframe\">\n  <thead>\n    <tr style=\"text-align: right;\">\n      <th></th>\n      <th>Company</th>\n      <th>Pizza Name</th>\n      <th>Type</th>\n      <th>Size</th>\n      <th>Price</th>\n    </tr>\n  </thead>\n  <tbody>\n    <tr>\n      <th>295</th>\n      <td>Godfather's Pizza</td>\n      <td>Super Combo Pizza (Original or Thin Crust)</td>\n      <td>Specialty Pizzas</td>\n      <td>Jumbo</td>\n      <td>29.99</td>\n    </tr>\n    <tr>\n      <th>313</th>\n      <td>Godfather's Pizza</td>\n      <td>The Don (Original or Thin Crust)</td>\n      <td>Specialty Pizzas</td>\n      <td>Jumbo</td>\n      <td>29.99</td>\n    </tr>\n    <tr>\n      <th>307</th>\n      <td>Godfather's Pizza</td>\n      <td>Super Taco Pizza (Original or Thin Crust)</td>\n      <td>Specialty Pizzas</td>\n      <td>Jumbo</td>\n      <td>29.99</td>\n    </tr>\n    <tr>\n      <th>301</th>\n      <td>Godfather's Pizza</td>\n      <td>Super Hawaiian Pizza (Original or Thin Crust)</td>\n      <td>Specialty Pizzas</td>\n      <td>Jumbo</td>\n      <td>29.99</td>\n    </tr>\n    <tr>\n      <th>319</th>\n      <td>Godfather's Pizza</td>\n      <td>Super Veggie Pizza (Original or Thin Crust)</td>\n      <td>Specialty Pizzas</td>\n      <td>Jumbo</td>\n      <td>28.99</td>\n    </tr>\n    <tr>\n      <th>...</th>\n      <td>...</td>\n      <td>...</td>\n      <td>...</td>\n      <td>...</td>\n      <td>...</td>\n    </tr>\n    <tr>\n      <th>269</th>\n      <td>Godfather's Pizza</td>\n      <td>Hawaiian Pizza (Original Crust)</td>\n      <td>Specialty Pizzas</td>\n      <td>Mini</td>\n      <td>5.99</td>\n    </tr>\n    <tr>\n      <th>276</th>\n      <td>Godfather's Pizza</td>\n      <td>BLT Pizza (Original Crust)</td>\n      <td>Specialty Pizzas</td>\n      <td>Mini</td>\n      <td>5.99</td>\n    </tr>\n    <tr>\n      <th>283</th>\n      <td>Godfather's Pizza</td>\n      <td>Buffalo Chicken Pizza (Original Crust)</td>\n      <td>Specialty Pizzas</td>\n      <td>Mini</td>\n      <td>5.99</td>\n    </tr>\n    <tr>\n      <th>340</th>\n      <td>Godfather's Pizza</td>\n      <td>Original Crust</td>\n      <td>Express Favorites</td>\n      <td>Mini</td>\n      <td>4.99</td>\n    </tr>\n    <tr>\n      <th>214</th>\n      <td>Godfather's Pizza</td>\n      <td>Cheese (Original Crust)</td>\n      <td>Cheese Pizza</td>\n      <td>Mini</td>\n      <td>4.99</td>\n    </tr>\n  </tbody>\n</table>\n<p>133 rows × 5 columns</p>\n</div>"
     },
     "execution_count": 2162,
     "metadata": {},
     "output_type": "execute_result"
    }
   ],
   "source": [
    "#GodFather's pizza\n",
    "GodF_df=df_pizza[(df_pizza[\"Company\"]==\"Godfather's Pizza\")]\n",
    "GodF_df.sort_values(by=\"Price\",ascending=False)\n"
   ],
   "metadata": {
    "collapsed": false,
    "pycharm": {
     "name": "#%%\n"
    }
   }
  },
  {
   "cell_type": "code",
   "execution_count": 2163,
   "outputs": [
    {
     "data": {
      "text/plain": "         Company           Pizza Name              Type    Size  Price\n366  IMO's Pizza    BBQ Chicken Pizza  Specialty Pizzas       X  23.85\n350  IMO's Pizza         Deluxe Pizza  Specialty Pizzas       X  23.85\n362  IMO's Pizza       All Meat Pizza  Specialty Pizzas       X  23.85\n354  IMO's Pizza         Veggie Pizza  Specialty Pizzas       X  23.85\n370  IMO's Pizza  Egg-Ceptional Pizza  Specialty Pizzas       X  22.30\n349  IMO's Pizza         Deluxe Pizza  Specialty Pizzas   Large  19.95\n361  IMO's Pizza       All Meat Pizza  Specialty Pizzas   Large  19.95\n353  IMO's Pizza         Veggie Pizza  Specialty Pizzas   Large  19.95\n365  IMO's Pizza    BBQ Chicken Pizza  Specialty Pizzas   Large  19.20\n369  IMO's Pizza  Egg-Ceptional Pizza  Specialty Pizzas   Large  18.65\n358  IMO's Pizza         Cheese Pizza  Specialty Pizzas       X  17.35\n364  IMO's Pizza    BBQ Chicken Pizza  Specialty Pizzas  Medium  16.20\n348  IMO's Pizza         Deluxe Pizza  Specialty Pizzas  Medium  16.20\n360  IMO's Pizza       All Meat Pizza  Specialty Pizzas  Medium  16.20\n352  IMO's Pizza         Veggie Pizza  Specialty Pizzas  Medium  16.20\n368  IMO's Pizza  Egg-Ceptional Pizza  Specialty Pizzas  Medium  14.95\n357  IMO's Pizza         Cheese Pizza  Specialty Pizzas   Large  14.45\n347  IMO's Pizza         Deluxe Pizza  Specialty Pizzas   Small  12.70\n363  IMO's Pizza    BBQ Chicken Pizza  Specialty Pizzas   Small  12.70\n351  IMO's Pizza         Veggie Pizza  Specialty Pizzas   Small  12.70\n359  IMO's Pizza       All Meat Pizza  Specialty Pizzas   Small  12.70\n367  IMO's Pizza  Egg-Ceptional Pizza  Specialty Pizzas   Small  11.80\n356  IMO's Pizza         Cheese Pizza  Specialty Pizzas  Medium  11.60\n355  IMO's Pizza         Cheese Pizza  Specialty Pizzas   Small   9.30",
      "text/html": "<div>\n<style scoped>\n    .dataframe tbody tr th:only-of-type {\n        vertical-align: middle;\n    }\n\n    .dataframe tbody tr th {\n        vertical-align: top;\n    }\n\n    .dataframe thead th {\n        text-align: right;\n    }\n</style>\n<table border=\"1\" class=\"dataframe\">\n  <thead>\n    <tr style=\"text-align: right;\">\n      <th></th>\n      <th>Company</th>\n      <th>Pizza Name</th>\n      <th>Type</th>\n      <th>Size</th>\n      <th>Price</th>\n    </tr>\n  </thead>\n  <tbody>\n    <tr>\n      <th>366</th>\n      <td>IMO's Pizza</td>\n      <td>BBQ Chicken Pizza</td>\n      <td>Specialty Pizzas</td>\n      <td>X</td>\n      <td>23.85</td>\n    </tr>\n    <tr>\n      <th>350</th>\n      <td>IMO's Pizza</td>\n      <td>Deluxe Pizza</td>\n      <td>Specialty Pizzas</td>\n      <td>X</td>\n      <td>23.85</td>\n    </tr>\n    <tr>\n      <th>362</th>\n      <td>IMO's Pizza</td>\n      <td>All Meat Pizza</td>\n      <td>Specialty Pizzas</td>\n      <td>X</td>\n      <td>23.85</td>\n    </tr>\n    <tr>\n      <th>354</th>\n      <td>IMO's Pizza</td>\n      <td>Veggie Pizza</td>\n      <td>Specialty Pizzas</td>\n      <td>X</td>\n      <td>23.85</td>\n    </tr>\n    <tr>\n      <th>370</th>\n      <td>IMO's Pizza</td>\n      <td>Egg-Ceptional Pizza</td>\n      <td>Specialty Pizzas</td>\n      <td>X</td>\n      <td>22.30</td>\n    </tr>\n    <tr>\n      <th>349</th>\n      <td>IMO's Pizza</td>\n      <td>Deluxe Pizza</td>\n      <td>Specialty Pizzas</td>\n      <td>Large</td>\n      <td>19.95</td>\n    </tr>\n    <tr>\n      <th>361</th>\n      <td>IMO's Pizza</td>\n      <td>All Meat Pizza</td>\n      <td>Specialty Pizzas</td>\n      <td>Large</td>\n      <td>19.95</td>\n    </tr>\n    <tr>\n      <th>353</th>\n      <td>IMO's Pizza</td>\n      <td>Veggie Pizza</td>\n      <td>Specialty Pizzas</td>\n      <td>Large</td>\n      <td>19.95</td>\n    </tr>\n    <tr>\n      <th>365</th>\n      <td>IMO's Pizza</td>\n      <td>BBQ Chicken Pizza</td>\n      <td>Specialty Pizzas</td>\n      <td>Large</td>\n      <td>19.20</td>\n    </tr>\n    <tr>\n      <th>369</th>\n      <td>IMO's Pizza</td>\n      <td>Egg-Ceptional Pizza</td>\n      <td>Specialty Pizzas</td>\n      <td>Large</td>\n      <td>18.65</td>\n    </tr>\n    <tr>\n      <th>358</th>\n      <td>IMO's Pizza</td>\n      <td>Cheese Pizza</td>\n      <td>Specialty Pizzas</td>\n      <td>X</td>\n      <td>17.35</td>\n    </tr>\n    <tr>\n      <th>364</th>\n      <td>IMO's Pizza</td>\n      <td>BBQ Chicken Pizza</td>\n      <td>Specialty Pizzas</td>\n      <td>Medium</td>\n      <td>16.20</td>\n    </tr>\n    <tr>\n      <th>348</th>\n      <td>IMO's Pizza</td>\n      <td>Deluxe Pizza</td>\n      <td>Specialty Pizzas</td>\n      <td>Medium</td>\n      <td>16.20</td>\n    </tr>\n    <tr>\n      <th>360</th>\n      <td>IMO's Pizza</td>\n      <td>All Meat Pizza</td>\n      <td>Specialty Pizzas</td>\n      <td>Medium</td>\n      <td>16.20</td>\n    </tr>\n    <tr>\n      <th>352</th>\n      <td>IMO's Pizza</td>\n      <td>Veggie Pizza</td>\n      <td>Specialty Pizzas</td>\n      <td>Medium</td>\n      <td>16.20</td>\n    </tr>\n    <tr>\n      <th>368</th>\n      <td>IMO's Pizza</td>\n      <td>Egg-Ceptional Pizza</td>\n      <td>Specialty Pizzas</td>\n      <td>Medium</td>\n      <td>14.95</td>\n    </tr>\n    <tr>\n      <th>357</th>\n      <td>IMO's Pizza</td>\n      <td>Cheese Pizza</td>\n      <td>Specialty Pizzas</td>\n      <td>Large</td>\n      <td>14.45</td>\n    </tr>\n    <tr>\n      <th>347</th>\n      <td>IMO's Pizza</td>\n      <td>Deluxe Pizza</td>\n      <td>Specialty Pizzas</td>\n      <td>Small</td>\n      <td>12.70</td>\n    </tr>\n    <tr>\n      <th>363</th>\n      <td>IMO's Pizza</td>\n      <td>BBQ Chicken Pizza</td>\n      <td>Specialty Pizzas</td>\n      <td>Small</td>\n      <td>12.70</td>\n    </tr>\n    <tr>\n      <th>351</th>\n      <td>IMO's Pizza</td>\n      <td>Veggie Pizza</td>\n      <td>Specialty Pizzas</td>\n      <td>Small</td>\n      <td>12.70</td>\n    </tr>\n    <tr>\n      <th>359</th>\n      <td>IMO's Pizza</td>\n      <td>All Meat Pizza</td>\n      <td>Specialty Pizzas</td>\n      <td>Small</td>\n      <td>12.70</td>\n    </tr>\n    <tr>\n      <th>367</th>\n      <td>IMO's Pizza</td>\n      <td>Egg-Ceptional Pizza</td>\n      <td>Specialty Pizzas</td>\n      <td>Small</td>\n      <td>11.80</td>\n    </tr>\n    <tr>\n      <th>356</th>\n      <td>IMO's Pizza</td>\n      <td>Cheese Pizza</td>\n      <td>Specialty Pizzas</td>\n      <td>Medium</td>\n      <td>11.60</td>\n    </tr>\n    <tr>\n      <th>355</th>\n      <td>IMO's Pizza</td>\n      <td>Cheese Pizza</td>\n      <td>Specialty Pizzas</td>\n      <td>Small</td>\n      <td>9.30</td>\n    </tr>\n  </tbody>\n</table>\n</div>"
     },
     "execution_count": 2163,
     "metadata": {},
     "output_type": "execute_result"
    }
   ],
   "source": [
    "#IMO is last\n",
    "IMO_df=df_pizza[(df_pizza[\"Company\"]==\"IMO's Pizza\")]\n",
    "IMO_df.sort_values(by=\"Price\",ascending=False)"
   ],
   "metadata": {
    "collapsed": false,
    "pycharm": {
     "name": "#%%\n"
    }
   }
  },
  {
   "cell_type": "markdown",
   "source": [
    "GodFather's Pizza has the highest Pizza pricing overall with 29.99.\n",
    "Individually Dominoes the highest prices is: 17.99\n",
    "PizzaHut: 18.49\n",
    "IMO: 23.85\n",
    "\n",
    "3. Which brand offers more choices"
   ],
   "metadata": {
    "collapsed": false
   }
  },
  {
   "cell_type": "code",
   "execution_count": 2164,
   "outputs": [
    {
     "name": "stderr",
     "output_type": "stream",
     "text": [
      "c:\\users\\hp\\pycharmprojects\\pythonproject18\\venv\\lib\\site-packages\\seaborn\\_decorators.py:36: FutureWarning: Pass the following variable as a keyword arg: x. From version 0.12, the only valid positional argument will be `data`, and passing other arguments without an explicit keyword will result in an error or misinterpretation.\n",
      "  warnings.warn(\n"
     ]
    },
    {
     "data": {
      "text/plain": "<AxesSubplot:xlabel='Company', ylabel='count'>"
     },
     "execution_count": 2164,
     "metadata": {},
     "output_type": "execute_result"
    },
    {
     "data": {
      "text/plain": "<Figure size 432x288 with 1 Axes>",
      "image/png": "[encoded data removed]"
     },
     "metadata": {
      "needs_background": "light"
     },
     "output_type": "display_data"
    }
   ],
   "source": [
    "#This should be fairly simple.\n",
    "import seaborn as sns\n",
    "#seaborn is a data visualisation tool.\n",
    "sns.countplot(df_pizza[\"Company\"])\n"
   ],
   "metadata": {
    "collapsed": false,
    "pycharm": {
     "name": "#%%\n"
    }
   }
  },
  {
   "cell_type": "markdown",
   "source": [
    "#### GodFather's Pizza has the most entries in the dataframe with PizzaHut close behind.\n"
   ],
   "metadata": {
    "collapsed": false
   }
  }
 ],
 "metadata": {
  "kernelspec": {
   "display_name": "Python 3",
   "language": "python",
   "name": "python3"
  },
  "language_info": {
   "codemirror_mode": {
    "name": "ipython",
    "version": 2
   },
   "file_extension": ".py",
   "mimetype": "text/x-python",
   "name": "python",
   "nbconvert_exporter": "python",
   "pygments_lexer": "ipython2",
   "version": "2.7.6"
  }
 },
 "nbformat": 4,
 "nbformat_minor": 0
}